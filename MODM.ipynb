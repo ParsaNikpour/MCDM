{
  "nbformat": 4,
  "nbformat_minor": 0,
  "metadata": {
    "colab": {
      "provenance": [],
      "collapsed_sections": [
        "s9m62L17FHod",
        "sDOXxdcLiiLt",
        "wxikpzhnkh1k",
        "_hsPYneOkmEI",
        "CHc_daDAB9wJ",
        "Tmcs7qmWK6M6",
        "1WR1RxNaziaY",
        "fGi8v7D8zo55",
        "CTDDZoYA5MGb",
        "E5B70aX3_qsU"
      ]
    },
    "kernelspec": {
      "name": "python3",
      "display_name": "Python 3"
    },
    "language_info": {
      "name": "python"
    }
  },
  "cells": [
    {
      "cell_type": "markdown",
      "source": [
        "# Import"
      ],
      "metadata": {
        "id": "s9m62L17FHod"
      }
    },
    {
      "cell_type": "code",
      "source": [
        "import numpy as np\n",
        "import matplotlib.pyplot as plt"
      ],
      "metadata": {
        "id": "CM7mVpL8EQm9"
      },
      "execution_count": 1,
      "outputs": []
    },
    {
      "cell_type": "code",
      "source": [
        "!pip install pyomo\n",
        "from pyomo.environ import *\n",
        "!wget -N -q \"https://matematica.unipv.it/gualandi/solvers/ipopt-linux64.zip\"\n",
        "!unzip -o -q ipopt-linux64"
      ],
      "metadata": {
        "colab": {
          "base_uri": "https://localhost:8080/"
        },
        "id": "XWG8feOJ9BF_",
        "outputId": "d790f148-5e1d-4bbb-8870-5c0b31226575"
      },
      "execution_count": 2,
      "outputs": [
        {
          "output_type": "stream",
          "name": "stdout",
          "text": [
            "Requirement already satisfied: pyomo in /usr/local/lib/python3.10/dist-packages (6.8.2)\n",
            "Requirement already satisfied: ply in /usr/local/lib/python3.10/dist-packages (from pyomo) (3.11)\n"
          ]
        }
      ]
    },
    {
      "cell_type": "code",
      "execution_count": 3,
      "metadata": {
        "id": "U65RBLpZEQm-"
      },
      "outputs": [],
      "source": [
        "import sys\n",
        "\n",
        "if 'google.colab' in sys.modules:\n",
        "    %pip install pyomo >/dev/null 2>/dev/null\n",
        "    %pip install highspy >/dev/null 2>/dev/null\n",
        "\n",
        "solver = 'appsi_highs'\n",
        "\n",
        "import pyomo.environ as pyo\n",
        "SOLVER = pyo.SolverFactory(solver)\n",
        "\n",
        "assert SOLVER.available(), f\"Solver {solver} is not available.\""
      ]
    },
    {
      "cell_type": "code",
      "source": [
        "import pyomo.environ as pyo"
      ],
      "metadata": {
        "id": "3LWFftYmEQm-"
      },
      "execution_count": 4,
      "outputs": []
    },
    {
      "cell_type": "markdown",
      "source": [
        "#Pyomo Examples"
      ],
      "metadata": {
        "id": "sDOXxdcLiiLt"
      }
    },
    {
      "cell_type": "markdown",
      "source": [
        "Reference: [1] https://mobook.github.io/MO-book/notebooks/01/01.00.html"
      ],
      "metadata": {
        "id": "H0S1FL1oEH3h"
      }
    },
    {
      "cell_type": "markdown",
      "source": [
        "## Example 1"
      ],
      "metadata": {
        "id": "wxikpzhnkh1k"
      }
    },
    {
      "cell_type": "code",
      "source": [
        "# create model with optional problem title\n",
        "model = pyo.ConcreteModel(\"Production Planning: Version 1\")"
      ],
      "metadata": {
        "id": "42JcozCqi6xz"
      },
      "execution_count": null,
      "outputs": []
    },
    {
      "cell_type": "code",
      "source": [
        "# display model\n",
        "model.display()"
      ],
      "metadata": {
        "colab": {
          "base_uri": "https://localhost:8080/"
        },
        "id": "_W-IJPypjD2D",
        "outputId": "d7037817-3aa7-4ca1-d7dc-4a6e6b3f2ec5"
      },
      "execution_count": null,
      "outputs": [
        {
          "output_type": "stream",
          "name": "stdout",
          "text": [
            "Model 'Production Planning: Version 1'\n",
            "\n",
            "  Variables:\n",
            "    None\n",
            "\n",
            "  Objectives:\n",
            "    None\n",
            "\n",
            "  Constraints:\n",
            "    None\n"
          ]
        }
      ]
    },
    {
      "cell_type": "code",
      "source": [
        "# create decision variables\n",
        "model.x_M = pyo.Var(bounds=(0, None))\n",
        "model.x_A = pyo.Var(bounds=(0, 80))\n",
        "model.x_B = pyo.Var(bounds=(0, 100))\n",
        "\n",
        "model.y_U = pyo.Var(bounds=(0, 40))\n",
        "model.y_V = pyo.Var(bounds=(0, None))\n",
        "\n",
        "# display updated model\n",
        "model.display()"
      ],
      "metadata": {
        "colab": {
          "base_uri": "https://localhost:8080/"
        },
        "id": "asgjVbfCjGJ0",
        "outputId": "2d6563ef-7c07-4bc5-c65f-efb44f6351e3"
      },
      "execution_count": null,
      "outputs": [
        {
          "output_type": "stream",
          "name": "stdout",
          "text": [
            "Model 'Production Planning: Version 1'\n",
            "\n",
            "  Variables:\n",
            "    x_M : Size=1, Index=None\n",
            "        Key  : Lower : Value : Upper : Fixed : Stale : Domain\n",
            "        None :     0 :  None :  None : False :  True :  Reals\n",
            "    x_A : Size=1, Index=None\n",
            "        Key  : Lower : Value : Upper : Fixed : Stale : Domain\n",
            "        None :     0 :  None :    80 : False :  True :  Reals\n",
            "    x_B : Size=1, Index=None\n",
            "        Key  : Lower : Value : Upper : Fixed : Stale : Domain\n",
            "        None :     0 :  None :   100 : False :  True :  Reals\n",
            "    y_U : Size=1, Index=None\n",
            "        Key  : Lower : Value : Upper : Fixed : Stale : Domain\n",
            "        None :     0 :  None :    40 : False :  True :  Reals\n",
            "    y_V : Size=1, Index=None\n",
            "        Key  : Lower : Value : Upper : Fixed : Stale : Domain\n",
            "        None :     0 :  None :  None : False :  True :  Reals\n",
            "\n",
            "  Objectives:\n",
            "    None\n",
            "\n",
            "  Constraints:\n",
            "    None\n"
          ]
        }
      ]
    },
    {
      "cell_type": "code",
      "source": [
        "# create expressions\n",
        "model.revenue = 270 * model.y_U + 210 * model.y_V\n",
        "model.cost = 10 * model.x_M + 50 * model.x_A + 40 * model.x_B\n",
        "\n",
        "# expressions can be printed\n",
        "print(model.revenue)\n",
        "print(model.cost)"
      ],
      "metadata": {
        "colab": {
          "base_uri": "https://localhost:8080/"
        },
        "id": "llpbDQHejNQl",
        "outputId": "3cc4f147-347c-4560-993f-f04289ffcba5"
      },
      "execution_count": null,
      "outputs": [
        {
          "output_type": "stream",
          "name": "stdout",
          "text": [
            "270*y_U + 210*y_V\n",
            "10*x_M + 50*x_A + 40*x_B\n"
          ]
        }
      ]
    },
    {
      "cell_type": "code",
      "source": [
        "model.profit = pyo.Objective(expr=model.revenue - model.cost, sense=pyo.maximize)"
      ],
      "metadata": {
        "id": "bt3aeyCXjU6A"
      },
      "execution_count": null,
      "outputs": []
    },
    {
      "cell_type": "code",
      "source": [
        "@model.Objective(sense=pyo.maximize)\n",
        "def profit(m):\n",
        "    return m.revenue - m.cost"
      ],
      "metadata": {
        "colab": {
          "base_uri": "https://localhost:8080/"
        },
        "id": "EGLc6tA6jZRt",
        "outputId": "f44f156d-eba2-474f-de02-818eb83c6962"
      },
      "execution_count": null,
      "outputs": [
        {
          "output_type": "stream",
          "name": "stderr",
          "text": [
            "WARNING:pyomo.core:Implicitly replacing the Component attribute profit (type=<class 'pyomo.core.base.objective.ScalarObjective'>) on block 'Production Planning: Version 1' with a new Component (type=<class 'pyomo.core.base.objective.ScalarObjective'>).\n",
            "This is usually indicative of a modelling error.\n",
            "To avoid this warning, use block.del_component() and block.add_component().\n"
          ]
        }
      ]
    },
    {
      "cell_type": "code",
      "source": [
        "model.raw_materials = pyo.Constraint(expr = 10 * model.y_U + 9 * model.y_V <= model.x_M)\n",
        "model.labor_A = pyo.Constraint(expr = 1 * model.y_U + 1 * model.y_V <= model.x_A)\n",
        "model.labor_B = pyo.Constraint(expr = 2 * model.y_U + 1 * model.y_V <= model.x_B)"
      ],
      "metadata": {
        "id": "bQjkKES2joCe"
      },
      "execution_count": null,
      "outputs": []
    },
    {
      "cell_type": "code",
      "source": [
        "@model.Constraint()\n",
        "def raw_materials(m):\n",
        "    return 10 * m.y_U + 9 * m.y_V <= m.x_M\n",
        "\n",
        "\n",
        "@model.Constraint()\n",
        "def labor_A(m):\n",
        "    return 1 * m.y_U + 1 * m.y_V <= m.x_A\n",
        "\n",
        "\n",
        "@model.Constraint()\n",
        "def labor_B(m):\n",
        "    return 2 * m.y_U + 1 * m.y_V <= m.x_B\n",
        "\n",
        "\n",
        "model.pprint()"
      ],
      "metadata": {
        "colab": {
          "base_uri": "https://localhost:8080/"
        },
        "id": "apocsZbEjtTt",
        "outputId": "8ffa5377-f56d-4391-b649-d636106b164c"
      },
      "execution_count": null,
      "outputs": [
        {
          "output_type": "stream",
          "name": "stderr",
          "text": [
            "WARNING:pyomo.core:Implicitly replacing the Component attribute raw_materials (type=<class 'pyomo.core.base.constraint.ScalarConstraint'>) on block 'Production Planning: Version 1' with a new Component (type=<class 'pyomo.core.base.constraint.AbstractScalarConstraint'>).\n",
            "This is usually indicative of a modelling error.\n",
            "To avoid this warning, use block.del_component() and block.add_component().\n",
            "WARNING:pyomo.core:Implicitly replacing the Component attribute labor_A (type=<class 'pyomo.core.base.constraint.ScalarConstraint'>) on block 'Production Planning: Version 1' with a new Component (type=<class 'pyomo.core.base.constraint.AbstractScalarConstraint'>).\n",
            "This is usually indicative of a modelling error.\n",
            "To avoid this warning, use block.del_component() and block.add_component().\n",
            "WARNING:pyomo.core:Implicitly replacing the Component attribute labor_B (type=<class 'pyomo.core.base.constraint.ScalarConstraint'>) on block 'Production Planning: Version 1' with a new Component (type=<class 'pyomo.core.base.constraint.AbstractScalarConstraint'>).\n",
            "This is usually indicative of a modelling error.\n",
            "To avoid this warning, use block.del_component() and block.add_component().\n"
          ]
        },
        {
          "output_type": "stream",
          "name": "stdout",
          "text": [
            "5 Var Declarations\n",
            "    x_A : Size=1, Index=None\n",
            "        Key  : Lower : Value : Upper : Fixed : Stale : Domain\n",
            "        None :     0 :  None :    80 : False :  True :  Reals\n",
            "    x_B : Size=1, Index=None\n",
            "        Key  : Lower : Value : Upper : Fixed : Stale : Domain\n",
            "        None :     0 :  None :   100 : False :  True :  Reals\n",
            "    x_M : Size=1, Index=None\n",
            "        Key  : Lower : Value : Upper : Fixed : Stale : Domain\n",
            "        None :     0 :  None :  None : False :  True :  Reals\n",
            "    y_U : Size=1, Index=None\n",
            "        Key  : Lower : Value : Upper : Fixed : Stale : Domain\n",
            "        None :     0 :  None :    40 : False :  True :  Reals\n",
            "    y_V : Size=1, Index=None\n",
            "        Key  : Lower : Value : Upper : Fixed : Stale : Domain\n",
            "        None :     0 :  None :  None : False :  True :  Reals\n",
            "\n",
            "1 Objective Declarations\n",
            "    profit : Size=1, Index=None, Active=True\n",
            "        Key  : Active : Sense    : Expression\n",
            "        None :   True : maximize : 270*y_U + 210*y_V - (10*x_M + 50*x_A + 40*x_B)\n",
            "\n",
            "3 Constraint Declarations\n",
            "    labor_A : Size=1, Index=None, Active=True\n",
            "        Key  : Lower : Body            : Upper : Active\n",
            "        None :  -Inf : y_U + y_V - x_A :   0.0 :   True\n",
            "    labor_B : Size=1, Index=None, Active=True\n",
            "        Key  : Lower : Body              : Upper : Active\n",
            "        None :  -Inf : 2*y_U + y_V - x_B :   0.0 :   True\n",
            "    raw_materials : Size=1, Index=None, Active=True\n",
            "        Key  : Lower : Body                 : Upper : Active\n",
            "        None :  -Inf : 10*y_U + 9*y_V - x_M :   0.0 :   True\n",
            "\n",
            "9 Declarations: x_M x_A x_B y_U y_V profit raw_materials labor_A labor_B\n"
          ]
        }
      ]
    },
    {
      "cell_type": "code",
      "source": [
        "results = SOLVER.solve(model, tee=True)"
      ],
      "metadata": {
        "colab": {
          "base_uri": "https://localhost:8080/"
        },
        "id": "Xc4TKktXjwZ0",
        "outputId": "96fbf07a-a932-4123-cf68-cbdaea117e4a"
      },
      "execution_count": null,
      "outputs": [
        {
          "output_type": "stream",
          "name": "stdout",
          "text": [
            "Running HiGHS 1.9.0 (git hash: fa40bdf): Copyright (c) 2024 HiGHS under MIT licence terms\n",
            "Coefficient ranges:\n",
            "  Matrix [1e+00, 1e+01]\n",
            "  Cost   [1e+01, 3e+02]\n",
            "  Bound  [4e+01, 1e+02]\n",
            "  RHS    [0e+00, 0e+00]\n",
            "Presolving model\n",
            "2 rows, 4 cols, 6 nonzeros  0s\n",
            "2 rows, 4 cols, 6 nonzeros  0s\n",
            "Presolve : Reductions: rows 2(-1); columns 4(-1); elements 6(-3)\n",
            "Solving the presolved LP\n",
            "Using EKK dual simplex solver - serial\n",
            "  Iteration        Objective     Infeasibilities num(sum)\n",
            "          0    -2.0999953995e+02 Ph1: 2(4); Du: 3(210) 0s\n",
            "          3    -2.6000000000e+03 Pr: 0(0) 0s\n",
            "Solving the original LP from the solution after postsolve\n",
            "Model status        : Optimal\n",
            "Simplex   iterations: 3\n",
            "Objective value     :  2.6000000000e+03\n",
            "Relative P-D gap    :  0.0000000000e+00\n",
            "HiGHS run time      :          0.00\n"
          ]
        }
      ]
    },
    {
      "cell_type": "code",
      "source": [
        "# display the whole model\n",
        "model.pprint()"
      ],
      "metadata": {
        "colab": {
          "base_uri": "https://localhost:8080/"
        },
        "id": "ZuN6GgT6j1iY",
        "outputId": "276ab2d1-dfca-45bb-d583-be519c8b61ca"
      },
      "execution_count": null,
      "outputs": [
        {
          "output_type": "stream",
          "name": "stdout",
          "text": [
            "5 Var Declarations\n",
            "    x_A : Size=1, Index=None\n",
            "        Key  : Lower : Value : Upper : Fixed : Stale : Domain\n",
            "        None :     0 :  80.0 :    80 : False : False :  Reals\n",
            "    x_B : Size=1, Index=None\n",
            "        Key  : Lower : Value : Upper : Fixed : Stale : Domain\n",
            "        None :     0 : 100.0 :   100 : False : False :  Reals\n",
            "    x_M : Size=1, Index=None\n",
            "        Key  : Lower : Value : Upper : Fixed : Stale : Domain\n",
            "        None :     0 : 740.0 :  None : False : False :  Reals\n",
            "    y_U : Size=1, Index=None\n",
            "        Key  : Lower : Value : Upper : Fixed : Stale : Domain\n",
            "        None :     0 :  20.0 :    40 : False : False :  Reals\n",
            "    y_V : Size=1, Index=None\n",
            "        Key  : Lower : Value : Upper : Fixed : Stale : Domain\n",
            "        None :     0 :  60.0 :  None : False : False :  Reals\n",
            "\n",
            "1 Objective Declarations\n",
            "    profit : Size=1, Index=None, Active=True\n",
            "        Key  : Active : Sense    : Expression\n",
            "        None :   True : maximize : 270*y_U + 210*y_V - (10*x_M + 50*x_A + 40*x_B)\n",
            "\n",
            "3 Constraint Declarations\n",
            "    labor_A : Size=1, Index=None, Active=True\n",
            "        Key  : Lower : Body            : Upper : Active\n",
            "        None :  -Inf : y_U + y_V - x_A :   0.0 :   True\n",
            "    labor_B : Size=1, Index=None, Active=True\n",
            "        Key  : Lower : Body              : Upper : Active\n",
            "        None :  -Inf : 2*y_U + y_V - x_B :   0.0 :   True\n",
            "    raw_materials : Size=1, Index=None, Active=True\n",
            "        Key  : Lower : Body                 : Upper : Active\n",
            "        None :  -Inf : 10*y_U + 9*y_V - x_M :   0.0 :   True\n",
            "\n",
            "9 Declarations: x_M x_A x_B y_U y_V profit raw_materials labor_A labor_B\n"
          ]
        }
      ]
    },
    {
      "cell_type": "code",
      "source": [
        "# display a component of the model\n",
        "model.profit.pprint()"
      ],
      "metadata": {
        "colab": {
          "base_uri": "https://localhost:8080/"
        },
        "id": "oeKw11bWj4Fq",
        "outputId": "427d8ce3-be63-4ab3-ff32-e285e6645958"
      },
      "execution_count": null,
      "outputs": [
        {
          "output_type": "stream",
          "name": "stdout",
          "text": [
            "profit : Size=1, Index=None, Active=True\n",
            "    Key  : Active : Sense    : Expression\n",
            "    None :   True : maximize : 270*y_U + 210*y_V - (10*x_M + 50*x_A + 40*x_B)\n"
          ]
        }
      ]
    },
    {
      "cell_type": "code",
      "source": [
        "pyo.value(model.profit)"
      ],
      "metadata": {
        "colab": {
          "base_uri": "https://localhost:8080/"
        },
        "id": "MRqKBCDcj9HZ",
        "outputId": "072bbc11-6bae-4885-9b82-1535c6ad49ae"
      },
      "execution_count": null,
      "outputs": [
        {
          "output_type": "execute_result",
          "data": {
            "text/plain": [
              "2600.0"
            ]
          },
          "metadata": {},
          "execution_count": 15
        }
      ]
    },
    {
      "cell_type": "code",
      "source": [
        "print(f\" Profit = {pyo.value(model.profit): 9.2f}\")\n",
        "print(f\"Revenue = {pyo.value(model.revenue): 9.2f}\")\n",
        "print(f\"   Cost = {pyo.value(model.cost): 9.2f}\")"
      ],
      "metadata": {
        "colab": {
          "base_uri": "https://localhost:8080/"
        },
        "id": "671wCBzckBpx",
        "outputId": "83bef15e-2d24-4e87-d7dc-82a8a740f3e0"
      },
      "execution_count": null,
      "outputs": [
        {
          "output_type": "stream",
          "name": "stdout",
          "text": [
            " Profit =   2600.00\n",
            "Revenue =  18000.00\n",
            "   Cost =  15400.00\n"
          ]
        }
      ]
    },
    {
      "cell_type": "code",
      "source": [
        "print(\"x_A =\", model.x_A())\n",
        "print(\"x_B =\", model.x_B())\n",
        "print(\"x_M =\", model.x_M())"
      ],
      "metadata": {
        "colab": {
          "base_uri": "https://localhost:8080/"
        },
        "id": "8XvBb0V2kDiZ",
        "outputId": "4a323c9a-b0a9-4c65-e021-99b2bb459f89"
      },
      "execution_count": null,
      "outputs": [
        {
          "output_type": "stream",
          "name": "stdout",
          "text": [
            "x_A = 80.0\n",
            "x_B = 100.0\n",
            "x_M = 740.0\n"
          ]
        }
      ]
    },
    {
      "cell_type": "code",
      "source": [
        "import pandas as pd\n",
        "\n",
        "# create pandas series for production and raw materials\n",
        "production = pd.Series(\n",
        "    {\n",
        "        \"U\": pyo.value(model.y_U),\n",
        "        \"V\": pyo.value(model.y_V),\n",
        "    }\n",
        ")\n",
        "\n",
        "raw_materials = pd.Series(\n",
        "    {\n",
        "        \"A\": pyo.value(model.x_A),\n",
        "        \"B\": pyo.value(model.x_B),\n",
        "        \"M\": pyo.value(model.x_M),\n",
        "    }\n",
        ")\n",
        "\n",
        "# display pandas series\n",
        "display(production)\n",
        "display(raw_materials)"
      ],
      "metadata": {
        "colab": {
          "base_uri": "https://localhost:8080/",
          "height": 307
        },
        "id": "W4wU5lq4kG7X",
        "outputId": "ced9b4f7-ec85-4114-f8ca-6e3c18639f25"
      },
      "execution_count": null,
      "outputs": [
        {
          "output_type": "display_data",
          "data": {
            "text/plain": [
              "U    20.0\n",
              "V    60.0\n",
              "dtype: float64"
            ],
            "text/html": [
              "<div>\n",
              "<style scoped>\n",
              "    .dataframe tbody tr th:only-of-type {\n",
              "        vertical-align: middle;\n",
              "    }\n",
              "\n",
              "    .dataframe tbody tr th {\n",
              "        vertical-align: top;\n",
              "    }\n",
              "\n",
              "    .dataframe thead th {\n",
              "        text-align: right;\n",
              "    }\n",
              "</style>\n",
              "<table border=\"1\" class=\"dataframe\">\n",
              "  <thead>\n",
              "    <tr style=\"text-align: right;\">\n",
              "      <th></th>\n",
              "      <th>0</th>\n",
              "    </tr>\n",
              "  </thead>\n",
              "  <tbody>\n",
              "    <tr>\n",
              "      <th>U</th>\n",
              "      <td>20.0</td>\n",
              "    </tr>\n",
              "    <tr>\n",
              "      <th>V</th>\n",
              "      <td>60.0</td>\n",
              "    </tr>\n",
              "  </tbody>\n",
              "</table>\n",
              "</div><br><label><b>dtype:</b> float64</label>"
            ]
          },
          "metadata": {}
        },
        {
          "output_type": "display_data",
          "data": {
            "text/plain": [
              "A     80.0\n",
              "B    100.0\n",
              "M    740.0\n",
              "dtype: float64"
            ],
            "text/html": [
              "<div>\n",
              "<style scoped>\n",
              "    .dataframe tbody tr th:only-of-type {\n",
              "        vertical-align: middle;\n",
              "    }\n",
              "\n",
              "    .dataframe tbody tr th {\n",
              "        vertical-align: top;\n",
              "    }\n",
              "\n",
              "    .dataframe thead th {\n",
              "        text-align: right;\n",
              "    }\n",
              "</style>\n",
              "<table border=\"1\" class=\"dataframe\">\n",
              "  <thead>\n",
              "    <tr style=\"text-align: right;\">\n",
              "      <th></th>\n",
              "      <th>0</th>\n",
              "    </tr>\n",
              "  </thead>\n",
              "  <tbody>\n",
              "    <tr>\n",
              "      <th>A</th>\n",
              "      <td>80.0</td>\n",
              "    </tr>\n",
              "    <tr>\n",
              "      <th>B</th>\n",
              "      <td>100.0</td>\n",
              "    </tr>\n",
              "    <tr>\n",
              "      <th>M</th>\n",
              "      <td>740.0</td>\n",
              "    </tr>\n",
              "  </tbody>\n",
              "</table>\n",
              "</div><br><label><b>dtype:</b> float64</label>"
            ]
          },
          "metadata": {}
        }
      ]
    },
    {
      "cell_type": "code",
      "source": [
        "import matplotlib.pyplot as plt\n",
        "\n",
        "# Create a 1x2 grid of subplots and configure global settings\n",
        "fig, ax = plt.subplots(1, 2, figsize=(8, 3.5))\n",
        "plt.rcParams[\"font.size\"] = 12\n",
        "colors = plt.cm.tab20c.colors\n",
        "color_sets = [[colors[0], colors[4]], [colors[16], colors[8], colors[12]]]\n",
        "datasets = [production, raw_materials]\n",
        "titles = [\"Production\", \"Raw Materials\"]\n",
        "\n",
        "# Plot data on subplots\n",
        "for i, (data, title, color_set) in enumerate(zip(datasets, titles, color_sets)):\n",
        "    data.plot(ax=ax[i], kind=\"barh\", title=title, alpha=0.7, color=color_set)\n",
        "    ax[i].set_xlabel(\"Units\")\n",
        "    ax[i].invert_yaxis()\n",
        "plt.tight_layout()\n",
        "plt.show()"
      ],
      "metadata": {
        "colab": {
          "base_uri": "https://localhost:8080/",
          "height": 351
        },
        "id": "RDc_WmBHkLNg",
        "outputId": "0ae1fb12-ad60-4262-b8bb-fadfa56d041d"
      },
      "execution_count": null,
      "outputs": [
        {
          "output_type": "display_data",
          "data": {
            "text/plain": [
              "<Figure size 800x350 with 2 Axes>"
            ],
            "image/png": "[encoded data removed]"
          },
          "metadata": {}
        }
      ]
    },
    {
      "cell_type": "markdown",
      "source": [
        "## Example 2"
      ],
      "metadata": {
        "id": "_hsPYneOkmEI"
      }
    },
    {
      "cell_type": "code",
      "source": [
        "products = {\n",
        "    \"U\": {\"price\": 270, \"demand\": 40},\n",
        "    \"V\": {\"price\": 210, \"demand\": None},\n",
        "}\n",
        "\n",
        "# print data\n",
        "for product, attributes in products.items():\n",
        "    for attribute, value in attributes.items():\n",
        "        print(f\"{product} {attribute:10s} {value}\")"
      ],
      "metadata": {
        "colab": {
          "base_uri": "https://localhost:8080/"
        },
        "id": "ahmCLd_TkN9Q",
        "outputId": "ec591a73-5802-44d6-99a9-9bc4a05a261a"
      },
      "execution_count": null,
      "outputs": [
        {
          "output_type": "stream",
          "name": "stdout",
          "text": [
            "U price      270\n",
            "U demand     40\n",
            "V price      210\n",
            "V demand     None\n"
          ]
        }
      ]
    },
    {
      "cell_type": "code",
      "source": [
        "resources = {\n",
        "    \"M\": {\"price\": 10, \"available\": None},\n",
        "    \"labor A\": {\"price\": 50, \"available\": 80},\n",
        "    \"labor B\": {\"price\": 40, \"available\": 100},\n",
        "}\n",
        "\n",
        "for resource, attributes in resources.items():\n",
        "    for attribute, value in attributes.items():\n",
        "        print(f\"{resource:8s} {attribute:10s} {value}\")"
      ],
      "metadata": {
        "colab": {
          "base_uri": "https://localhost:8080/"
        },
        "id": "NbdImr9Dohme",
        "outputId": "13ece53b-62b7-4da0-f48f-86bd14272be4"
      },
      "execution_count": null,
      "outputs": [
        {
          "output_type": "stream",
          "name": "stdout",
          "text": [
            "M        price      10\n",
            "M        available  None\n",
            "labor A  price      50\n",
            "labor A  available  80\n",
            "labor B  price      40\n",
            "labor B  available  100\n"
          ]
        }
      ]
    },
    {
      "cell_type": "code",
      "source": [
        "processes = {\n",
        "    \"U\": {\"M\": 10, \"labor A\": 1, \"labor B\": 2},\n",
        "    \"V\": {\"M\": 9, \"labor A\": 1, \"labor B\": 1},\n",
        "}\n",
        "\n",
        "for product, process in processes.items():\n",
        "    for resource, value in process.items():\n",
        "        print(f\"{product:4s} {resource:10s} {value}\")"
      ],
      "metadata": {
        "colab": {
          "base_uri": "https://localhost:8080/"
        },
        "id": "11M2EBv4ok3A",
        "outputId": "5a4eed9f-4cc5-4ed6-b463-f56352e0dbe2"
      },
      "execution_count": null,
      "outputs": [
        {
          "output_type": "stream",
          "name": "stdout",
          "text": [
            "U    M          10\n",
            "U    labor A    1\n",
            "U    labor B    2\n",
            "V    M          9\n",
            "V    labor A    1\n",
            "V    labor B    1\n"
          ]
        }
      ]
    },
    {
      "cell_type": "code",
      "source": [
        "model = pyo.ConcreteModel()"
      ],
      "metadata": {
        "id": "QNhlNqzsouCD"
      },
      "execution_count": null,
      "outputs": []
    },
    {
      "cell_type": "code",
      "source": [
        "model.PRODUCTS = pyo.Set(initialize=products.keys())\n",
        "model.RESOURCES = pyo.Set(initialize=resources.keys())"
      ],
      "metadata": {
        "id": "63fi1MbDow76"
      },
      "execution_count": null,
      "outputs": []
    },
    {
      "cell_type": "code",
      "source": [
        "# parameter for bounds\n",
        "@model.Param(model.PRODUCTS, domain=pyo.Any)\n",
        "def demand(model, product):\n",
        "    return products[product][\"demand\"]\n",
        "\n",
        "\n",
        "@model.Param(model.RESOURCES, domain=pyo.Any)\n",
        "def available(model, resource):\n",
        "    return resources[resource][\"available\"]\n",
        "\n",
        "\n",
        "# parameter with price coefficients\n",
        "@model.Param(model.PRODUCTS)\n",
        "def cp(model, product):\n",
        "    return products[product][\"price\"]\n",
        "\n",
        "\n",
        "@model.Param(model.RESOURCES)\n",
        "def cr(model, resource):\n",
        "    return resources[resource][\"price\"]\n",
        "\n",
        "\n",
        "# process parameters: a[r,p]\n",
        "@model.Param(model.RESOURCES, model.PRODUCTS)\n",
        "def a(model, resource, product):\n",
        "    return processes[product][resource]"
      ],
      "metadata": {
        "id": "Yw-AF7uOo24x"
      },
      "execution_count": null,
      "outputs": []
    },
    {
      "cell_type": "code",
      "source": [
        "model.x = pyo.Var(\n",
        "    model.RESOURCES, bounds=lambda model, resource: (0, model.available[resource])\n",
        ")\n",
        "model.y = pyo.Var(\n",
        "    model.PRODUCTS, bounds=lambda model, product: (0, model.demand[product])\n",
        ")"
      ],
      "metadata": {
        "id": "AZ2DPk3Ao5Dk"
      },
      "execution_count": null,
      "outputs": []
    },
    {
      "cell_type": "code",
      "source": [
        "model.revenue = pyo.quicksum(\n",
        "    model.cp[product] * model.y[product] for product in model.PRODUCTS\n",
        ")\n",
        "model.cost = pyo.quicksum(\n",
        "    model.cr[resource] * model.x[resource] for resource in model.RESOURCES\n",
        ")\n",
        "\n",
        "\n",
        "# create objective\n",
        "@model.Objective(sense=pyo.maximize)\n",
        "def profit(model):\n",
        "    return model.revenue - model.cost"
      ],
      "metadata": {
        "id": "7zvuditgpeak"
      },
      "execution_count": null,
      "outputs": []
    },
    {
      "cell_type": "code",
      "source": [
        "# create indexed constraint\n",
        "@model.Constraint(model.RESOURCES)\n",
        "def materials_used(model, resource):\n",
        "    return (\n",
        "        pyo.quicksum(\n",
        "            model.a[resource, product] * model.y[product] for product in model.PRODUCTS\n",
        "        )\n",
        "        <= model.x[resource]\n",
        "    )"
      ],
      "metadata": {
        "id": "B4wJOehHpmBO"
      },
      "execution_count": null,
      "outputs": []
    },
    {
      "cell_type": "code",
      "source": [
        "model.pprint()\n",
        "\n",
        "# solve\n",
        "SOLVER.solve(model)\n",
        "\n",
        "# create a solution report\n",
        "print(f\"Profit = {pyo.value(model.profit)}\")\n",
        "\n",
        "print(\"\\nProduction Report\")\n",
        "for product in model.PRODUCTS:\n",
        "    print(f\" {product}  produced =  {pyo.value(model.y[product])}\")\n",
        "\n",
        "print(\"\\nResource Report\")\n",
        "for resource in model.RESOURCES:\n",
        "    print(f\" {resource} consumed = {pyo.value(model.x[resource])}\")"
      ],
      "metadata": {
        "colab": {
          "base_uri": "https://localhost:8080/"
        },
        "id": "qcmbVzLMpsNQ",
        "outputId": "c33de6ba-0bb5-4465-f541-ee74741fa752"
      },
      "execution_count": null,
      "outputs": [
        {
          "output_type": "stream",
          "name": "stdout",
          "text": [
            "2 Set Declarations\n",
            "    PRODUCTS : Size=1, Index=None, Ordered=Insertion\n",
            "        Key  : Dimen : Domain : Size : Members\n",
            "        None :     1 :    Any :    2 : {'U', 'V'}\n",
            "    RESOURCES : Size=1, Index=None, Ordered=Insertion\n",
            "        Key  : Dimen : Domain : Size : Members\n",
            "        None :     1 :    Any :    3 : {'M', 'labor A', 'labor B'}\n",
            "\n",
            "5 Param Declarations\n",
            "    a : Size=6, Index=RESOURCES*PRODUCTS, Domain=Any, Default=None, Mutable=False\n",
            "        Key              : Value\n",
            "              ('M', 'U') :    10\n",
            "              ('M', 'V') :     9\n",
            "        ('labor A', 'U') :     1\n",
            "        ('labor A', 'V') :     1\n",
            "        ('labor B', 'U') :     2\n",
            "        ('labor B', 'V') :     1\n",
            "    available : Size=3, Index=RESOURCES, Domain=Any, Default=None, Mutable=False\n",
            "        Key     : Value\n",
            "              M :  None\n",
            "        labor A :    80\n",
            "        labor B :   100\n",
            "    cp : Size=2, Index=PRODUCTS, Domain=Any, Default=None, Mutable=False\n",
            "        Key : Value\n",
            "          U :   270\n",
            "          V :   210\n",
            "    cr : Size=3, Index=RESOURCES, Domain=Any, Default=None, Mutable=False\n",
            "        Key     : Value\n",
            "              M :    10\n",
            "        labor A :    50\n",
            "        labor B :    40\n",
            "    demand : Size=2, Index=PRODUCTS, Domain=Any, Default=None, Mutable=False\n",
            "        Key : Value\n",
            "          U :    40\n",
            "          V :  None\n",
            "\n",
            "2 Var Declarations\n",
            "    x : Size=3, Index=RESOURCES\n",
            "        Key     : Lower : Value : Upper : Fixed : Stale : Domain\n",
            "              M :     0 :  None :  None : False :  True :  Reals\n",
            "        labor A :     0 :  None :    80 : False :  True :  Reals\n",
            "        labor B :     0 :  None :   100 : False :  True :  Reals\n",
            "    y : Size=2, Index=PRODUCTS\n",
            "        Key : Lower : Value : Upper : Fixed : Stale : Domain\n",
            "          U :     0 :  None :    40 : False :  True :  Reals\n",
            "          V :     0 :  None :  None : False :  True :  Reals\n",
            "\n",
            "1 Objective Declarations\n",
            "    profit : Size=1, Index=None, Active=True\n",
            "        Key  : Active : Sense    : Expression\n",
            "        None :   True : maximize : 270*y[U] + 210*y[V] - (10*x[M] + 50*x[labor A] + 40*x[labor B])\n",
            "\n",
            "1 Constraint Declarations\n",
            "    materials_used : Size=3, Index=RESOURCES, Active=True\n",
            "        Key     : Lower : Body                       : Upper : Active\n",
            "              M :  -Inf :    10*y[U] + 9*y[V] - x[M] :   0.0 :   True\n",
            "        labor A :  -Inf :   y[U] + y[V] - x[labor A] :   0.0 :   True\n",
            "        labor B :  -Inf : 2*y[U] + y[V] - x[labor B] :   0.0 :   True\n",
            "\n",
            "11 Declarations: PRODUCTS RESOURCES demand available cp cr a x y profit materials_used\n",
            "Profit = 2600.0\n",
            "\n",
            "Production Report\n",
            " U  produced =  20.0\n",
            " V  produced =  60.0\n",
            "\n",
            "Resource Report\n",
            " M consumed = 740.0\n",
            " labor A consumed = 80.0\n",
            " labor B consumed = 100.0\n"
          ]
        }
      ]
    },
    {
      "cell_type": "markdown",
      "source": [
        "### For Experts"
      ],
      "metadata": {
        "id": "twlDvwXgqikh"
      }
    },
    {
      "cell_type": "code",
      "source": [
        "class ProductionModel(pyo.ConcreteModel):\n",
        "    \"\"\"\n",
        "    A class representing a production model using Pyomo.\n",
        "    \"\"\"\n",
        "\n",
        "    def __init__(self, products, resources, processes):\n",
        "        \"\"\"\n",
        "        Initialize ProductionModel as an instance of a ConcreteModel.\n",
        "\n",
        "        :param products: A dictionary containing product information.\n",
        "        :param resources: A dictionary containing resource information.\n",
        "        :param processes: A dictionary containing process information.\n",
        "        \"\"\"\n",
        "        super().__init__(\"Production Model\")\n",
        "\n",
        "        # save data in the model instance\n",
        "        self.products = products\n",
        "        self.resources = resources\n",
        "        self.processes = processes\n",
        "\n",
        "        # flag to monitor solution status\n",
        "        self.solved = False\n",
        "\n",
        "    def build_model(self):\n",
        "        \"\"\"\n",
        "        Build the optimization model.\n",
        "        \"\"\"\n",
        "        # access the model\n",
        "        model = self.model()\n",
        "\n",
        "        # create sets to index variables and constraints\n",
        "        model.PRODUCTS = self.products.keys()\n",
        "        model.RESOURCES = self.resources.keys()\n",
        "\n",
        "        # decision variables\n",
        "        model.x = pyo.Var(\n",
        "            model.RESOURCES,\n",
        "            bounds=lambda model, resource: (0, self.resources[resource][\"available\"]),\n",
        "        )\n",
        "        model.y = pyo.Var(\n",
        "            model.PRODUCTS,\n",
        "            bounds=lambda model, product: (0, self.products[product][\"demand\"]),\n",
        "        )\n",
        "\n",
        "        # use expressions to break up complex objectives\n",
        "        model.revenue = pyo.quicksum(\n",
        "            self.products[product][\"price\"] * model.y[product]\n",
        "            for product in model.products\n",
        "        )\n",
        "        model.cost = pyo.quicksum(\n",
        "            self.resources[resource][\"price\"] * model.x[resource]\n",
        "            for resource in model.resources\n",
        "        )\n",
        "\n",
        "        # create objective\n",
        "        @model.Objective(sense=pyo.maximize)\n",
        "        def profit(model):\n",
        "            return model.revenue - model.cost\n",
        "\n",
        "        # create indexed constraint\n",
        "        @model.Constraint(model.RESOURCES)\n",
        "        def materials_used(model, resource):\n",
        "            return (\n",
        "                pyo.quicksum(\n",
        "                    self.processes[product][resource] * model.y[product]\n",
        "                    for product in model.PRODUCTS\n",
        "                )\n",
        "                <= model.x[resource]\n",
        "            )\n",
        "\n",
        "    def solve(self, solver=SOLVER):\n",
        "        \"\"\"\n",
        "        Buildthe model, if necessary, then solve the optimization model.\n",
        "        \"\"\"\n",
        "        self.build_model()\n",
        "        solver.solve(self)\n",
        "        self.solved = True\n",
        "\n",
        "    def report(self):\n",
        "        \"\"\"\n",
        "        Solve, if necessary, then report the model solution.\n",
        "        \"\"\"\n",
        "        if not self.solved:\n",
        "            self.solve(SOLVER)\n",
        "        print(f\"Profit = {pyo.value(self.profit)}\")\n",
        "        print(\"\\nProduction Report\")\n",
        "        for product in m.PRODUCTS:\n",
        "            print(f\" {product}  produced =  {pyo.value(self.y[product])}\")\n",
        "        print(\"\\nResource Report\")\n",
        "        for resource in m.RESOURCES:\n",
        "            print(f\" {resource} consumed = {pyo.value(self.x[resource])}\")\n",
        "\n",
        "\n",
        "m = ProductionModel(products, resources, processes)\n",
        "m.report()"
      ],
      "metadata": {
        "colab": {
          "base_uri": "https://localhost:8080/"
        },
        "id": "VVMtkKE1purL",
        "outputId": "1f59e92d-6b2a-4df2-da03-842270e53065"
      },
      "execution_count": null,
      "outputs": [
        {
          "output_type": "stream",
          "name": "stdout",
          "text": [
            "Profit = 2600.0\n",
            "\n",
            "Production Report\n",
            " U  produced =  20.0\n",
            " V  produced =  60.0\n",
            "\n",
            "Resource Report\n",
            " M consumed = 740.0\n",
            " labor A consumed = 80.0\n",
            " labor B consumed = 100.0\n"
          ]
        }
      ]
    },
    {
      "cell_type": "code",
      "source": [],
      "metadata": {
        "id": "tM0k7e2Lq811"
      },
      "execution_count": null,
      "outputs": []
    },
    {
      "cell_type": "markdown",
      "source": [
        "#Weighted-Sum Method"
      ],
      "metadata": {
        "id": "CHc_daDAB9wJ"
      }
    },
    {
      "cell_type": "code",
      "source": [
        "# create model with optional problem title\n",
        "model = pyo.ConcreteModel(\"Production Planning\")"
      ],
      "metadata": {
        "id": "2DrlCVQPFs6a"
      },
      "execution_count": null,
      "outputs": []
    },
    {
      "cell_type": "code",
      "source": [
        "# display model\n",
        "model.display()"
      ],
      "metadata": {
        "colab": {
          "base_uri": "https://localhost:8080/"
        },
        "outputId": "8e242070-817a-467a-ad27-41e3ec9e96de",
        "id": "YhLjMb5BFs6b"
      },
      "execution_count": null,
      "outputs": [
        {
          "output_type": "stream",
          "name": "stdout",
          "text": [
            "Model Production Planning\n",
            "\n",
            "  Variables:\n",
            "    None\n",
            "\n",
            "  Objectives:\n",
            "    None\n",
            "\n",
            "  Constraints:\n",
            "    None\n"
          ]
        }
      ]
    },
    {
      "cell_type": "code",
      "source": [
        "products = {\n",
        "    \"U\": {\"price\": 270, \"demand\": 40, \"carbon\":50},\n",
        "    \"V\": {\"price\": 210, \"demand\": None, \"carbon\":60},\n",
        "}\n",
        "\n",
        "# print data\n",
        "for product, attributes in products.items():\n",
        "    for attribute, value in attributes.items():\n",
        "        print(f\"{product} {attribute:10s} {value}\")"
      ],
      "metadata": {
        "colab": {
          "base_uri": "https://localhost:8080/"
        },
        "outputId": "059dc745-0420-4be4-a52b-cb1b997132c0",
        "id": "kiyGhDmTCNRr"
      },
      "execution_count": null,
      "outputs": [
        {
          "output_type": "stream",
          "name": "stdout",
          "text": [
            "U price      270\n",
            "U demand     40\n",
            "U carbon     50\n",
            "V price      210\n",
            "V demand     None\n",
            "V carbon     60\n"
          ]
        }
      ]
    },
    {
      "cell_type": "code",
      "source": [
        "resources = {\n",
        "    \"M\": {\"price\": 10, \"available\": None},\n",
        "    \"labor A\": {\"price\": 50, \"available\": 80},\n",
        "    \"labor B\": {\"price\": 40, \"available\": 100},\n",
        "}\n",
        "\n",
        "for resource, attributes in resources.items():\n",
        "    for attribute, value in attributes.items():\n",
        "        print(f\"{resource:8s} {attribute:10s} {value}\")"
      ],
      "metadata": {
        "colab": {
          "base_uri": "https://localhost:8080/"
        },
        "outputId": "f5ca4d7c-1fe3-4b79-adad-afecb03c2868",
        "id": "RWJlZyGkCNRs"
      },
      "execution_count": null,
      "outputs": [
        {
          "output_type": "stream",
          "name": "stdout",
          "text": [
            "M        price      10\n",
            "M        available  None\n",
            "labor A  price      50\n",
            "labor A  available  80\n",
            "labor B  price      40\n",
            "labor B  available  100\n"
          ]
        }
      ]
    },
    {
      "cell_type": "code",
      "source": [
        "processes = {\n",
        "    \"U\": {\"M\": 10, \"labor A\": 1, \"labor B\": 2},\n",
        "    \"V\": {\"M\": 9, \"labor A\": 1, \"labor B\": 1},\n",
        "}\n",
        "\n",
        "for product, process in processes.items():\n",
        "    for resource, value in process.items():\n",
        "        print(f\"{product:4s} {resource:10s} {value}\")"
      ],
      "metadata": {
        "colab": {
          "base_uri": "https://localhost:8080/"
        },
        "outputId": "9c53cb30-ea84-40db-b086-6c3d790c567e",
        "id": "dT-0IhaWCNRt"
      },
      "execution_count": null,
      "outputs": [
        {
          "output_type": "stream",
          "name": "stdout",
          "text": [
            "U    M          10\n",
            "U    labor A    1\n",
            "U    labor B    2\n",
            "V    M          9\n",
            "V    labor A    1\n",
            "V    labor B    1\n"
          ]
        }
      ]
    },
    {
      "cell_type": "code",
      "source": [
        "model = pyo.ConcreteModel()"
      ],
      "metadata": {
        "id": "N5K6tySYCNRt"
      },
      "execution_count": null,
      "outputs": []
    },
    {
      "cell_type": "code",
      "source": [
        "model.PRODUCTS = pyo.Set(initialize=products.keys())\n",
        "model.RESOURCES = pyo.Set(initialize=resources.keys())"
      ],
      "metadata": {
        "id": "p-GDjK4_CNRu"
      },
      "execution_count": null,
      "outputs": []
    },
    {
      "cell_type": "code",
      "source": [
        "# parameter for bounds\n",
        "@model.Param(model.PRODUCTS, domain=pyo.Any)\n",
        "def demand(model, product):\n",
        "    return products[product][\"demand\"]\n",
        "\n",
        "\n",
        "@model.Param(model.RESOURCES, domain=pyo.Any)\n",
        "def available(model, resource):\n",
        "    return resources[resource][\"available\"]\n",
        "\n",
        "\n",
        "# parameter with price coefficients\n",
        "@model.Param(model.PRODUCTS)\n",
        "def cp(model, product):\n",
        "    return products[product][\"price\"]\n",
        "\n",
        "# parameter with price coefficients\n",
        "@model.Param(model.PRODUCTS)\n",
        "def carbon(model, product):\n",
        "    return products[product][\"carbon\"]\n",
        "\n",
        "@model.Param(model.RESOURCES)\n",
        "def cr(model, resource):\n",
        "    return resources[resource][\"price\"]\n",
        "\n",
        "\n",
        "# process parameters: a[r,p]\n",
        "@model.Param(model.RESOURCES, model.PRODUCTS)\n",
        "def a(model, resource, product):\n",
        "    return processes[product][resource]"
      ],
      "metadata": {
        "id": "WdU840imCNRu"
      },
      "execution_count": null,
      "outputs": []
    },
    {
      "cell_type": "code",
      "source": [
        "model.x = pyo.Var(\n",
        "    model.RESOURCES, bounds=lambda model, resource: (0, model.available[resource])\n",
        ")\n",
        "model.y = pyo.Var(\n",
        "    model.PRODUCTS, bounds=lambda model, product: (0, model.demand[product])\n",
        ")"
      ],
      "metadata": {
        "id": "SxcOaE7LCNRv"
      },
      "execution_count": null,
      "outputs": []
    },
    {
      "cell_type": "code",
      "source": [
        "model.revenue = pyo.quicksum(\n",
        "    model.cp[product] * model.y[product] for product in model.PRODUCTS\n",
        ")\n",
        "model.cost = pyo.quicksum(\n",
        "    model.cr[resource] * model.x[resource] for resource in model.RESOURCES\n",
        ")\n",
        "\n",
        "model.profit = 0.6*(model.revenue - model.cost)\n",
        "\n",
        "model.pollution = 0.4*pyo.quicksum(\n",
        "    model.carbon[product] * model.y[product] for product in model.PRODUCTS\n",
        ")\n",
        "\n",
        "\n",
        "# create objective\n",
        "@model.Objective(sense=pyo.maximize)\n",
        "def obj(model):\n",
        "    return model.profit - model.pollution"
      ],
      "metadata": {
        "id": "ojDEJhssCNRv"
      },
      "execution_count": null,
      "outputs": []
    },
    {
      "cell_type": "code",
      "source": [
        "# create indexed constraint\n",
        "@model.Constraint(model.RESOURCES)\n",
        "def materials_used(model, resource):\n",
        "    return (\n",
        "        pyo.quicksum(\n",
        "            model.a[resource, product] * model.y[product] for product in model.PRODUCTS\n",
        "        )\n",
        "        <= model.x[resource]\n",
        "    )"
      ],
      "metadata": {
        "id": "mKs7cA77CNRw"
      },
      "execution_count": null,
      "outputs": []
    },
    {
      "cell_type": "code",
      "source": [
        "model.pprint()\n",
        "\n",
        "# solve\n",
        "SOLVER.solve(model)\n",
        "\n",
        "# create a solution report\n",
        "print(f\"Profit = {pyo.value(model.obj)}\")\n",
        "\n",
        "print(\"\\nProduction Report\")\n",
        "for product in model.PRODUCTS:\n",
        "    print(f\" {product}  produced =  {pyo.value(model.y[product])}\")\n",
        "\n",
        "print(\"\\nResource Report\")\n",
        "for resource in model.RESOURCES:\n",
        "    print(f\" {resource} consumed = {pyo.value(model.x[resource])}\")"
      ],
      "metadata": {
        "colab": {
          "base_uri": "https://localhost:8080/"
        },
        "outputId": "31687082-bf0d-44d3-c1a7-71052374cb44",
        "id": "iNXQh9xjCNRw"
      },
      "execution_count": null,
      "outputs": [
        {
          "output_type": "stream",
          "name": "stdout",
          "text": [
            "2 Set Declarations\n",
            "    PRODUCTS : Size=1, Index=None, Ordered=Insertion\n",
            "        Key  : Dimen : Domain : Size : Members\n",
            "        None :     1 :    Any :    2 : {'U', 'V'}\n",
            "    RESOURCES : Size=1, Index=None, Ordered=Insertion\n",
            "        Key  : Dimen : Domain : Size : Members\n",
            "        None :     1 :    Any :    3 : {'M', 'labor A', 'labor B'}\n",
            "\n",
            "6 Param Declarations\n",
            "    a : Size=6, Index=RESOURCES*PRODUCTS, Domain=Any, Default=None, Mutable=False\n",
            "        Key              : Value\n",
            "              ('M', 'U') :    10\n",
            "              ('M', 'V') :     9\n",
            "        ('labor A', 'U') :     1\n",
            "        ('labor A', 'V') :     1\n",
            "        ('labor B', 'U') :     2\n",
            "        ('labor B', 'V') :     1\n",
            "    available : Size=3, Index=RESOURCES, Domain=Any, Default=None, Mutable=False\n",
            "        Key     : Value\n",
            "              M :  None\n",
            "        labor A :    80\n",
            "        labor B :   100\n",
            "    carbon : Size=2, Index=PRODUCTS, Domain=Any, Default=None, Mutable=False\n",
            "        Key : Value\n",
            "          U :    50\n",
            "          V :    60\n",
            "    cp : Size=2, Index=PRODUCTS, Domain=Any, Default=None, Mutable=False\n",
            "        Key : Value\n",
            "          U :   270\n",
            "          V :   210\n",
            "    cr : Size=3, Index=RESOURCES, Domain=Any, Default=None, Mutable=False\n",
            "        Key     : Value\n",
            "              M :    10\n",
            "        labor A :    50\n",
            "        labor B :    40\n",
            "    demand : Size=2, Index=PRODUCTS, Domain=Any, Default=None, Mutable=False\n",
            "        Key : Value\n",
            "          U :    40\n",
            "          V :  None\n",
            "\n",
            "2 Var Declarations\n",
            "    x : Size=3, Index=RESOURCES\n",
            "        Key     : Lower : Value : Upper : Fixed : Stale : Domain\n",
            "              M :     0 :  None :  None : False :  True :  Reals\n",
            "        labor A :     0 :  None :    80 : False :  True :  Reals\n",
            "        labor B :     0 :  None :   100 : False :  True :  Reals\n",
            "    y : Size=2, Index=PRODUCTS\n",
            "        Key : Lower : Value : Upper : Fixed : Stale : Domain\n",
            "          U :     0 :  None :    40 : False :  True :  Reals\n",
            "          V :     0 :  None :  None : False :  True :  Reals\n",
            "\n",
            "1 Objective Declarations\n",
            "    obj : Size=1, Index=None, Active=True\n",
            "        Key  : Active : Sense    : Expression\n",
            "        None :   True : maximize : 0.6*(270*y[U] + 210*y[V] - (10*x[M] + 50*x[labor A] + 40*x[labor B])) - 0.4*(50*y[U] + 60*y[V])\n",
            "\n",
            "1 Constraint Declarations\n",
            "    materials_used : Size=3, Index=RESOURCES, Active=True\n",
            "        Key     : Lower : Body                       : Upper : Active\n",
            "              M :  -Inf :    10*y[U] + 9*y[V] - x[M] :   0.0 :   True\n",
            "        labor A :  -Inf :   y[U] + y[V] - x[labor A] :   0.0 :   True\n",
            "        labor B :  -Inf : 2*y[U] + y[V] - x[labor B] :   0.0 :   True\n",
            "\n",
            "12 Declarations: PRODUCTS RESOURCES demand available cp carbon cr a x y obj materials_used\n",
            "Profit = 160.0\n",
            "\n",
            "Production Report\n",
            " U  produced =  40.0\n",
            " V  produced =  0.0\n",
            "\n",
            "Resource Report\n",
            " M consumed = 400.0\n",
            " labor A consumed = 40.0\n",
            " labor B consumed = 80.0\n"
          ]
        }
      ]
    },
    {
      "cell_type": "markdown",
      "source": [
        "### For Experts"
      ],
      "metadata": {
        "id": "q741yCYdCNRw"
      }
    },
    {
      "cell_type": "code",
      "source": [
        "class ProductionModel(pyo.ConcreteModel):\n",
        "    \"\"\"\n",
        "    A class representing a production model using Pyomo.\n",
        "    \"\"\"\n",
        "\n",
        "    def __init__(self, products, resources, processes):\n",
        "        \"\"\"\n",
        "        Initialize ProductionModel as an instance of a ConcreteModel.\n",
        "\n",
        "        :param products: A dictionary containing product information.\n",
        "        :param resources: A dictionary containing resource information.\n",
        "        :param processes: A dictionary containing process information.\n",
        "        \"\"\"\n",
        "        super().__init__(\"Production Model\")\n",
        "\n",
        "        # save data in the model instance\n",
        "        self.products = products\n",
        "        self.resources = resources\n",
        "        self.processes = processes\n",
        "\n",
        "        # flag to monitor solution status\n",
        "        self.solved = False\n",
        "\n",
        "    def build_model(self):\n",
        "        \"\"\"\n",
        "        Build the optimization model.\n",
        "        \"\"\"\n",
        "        # access the model\n",
        "        model = self.model()\n",
        "\n",
        "        # create sets to index variables and constraints\n",
        "        model.PRODUCTS = self.products.keys()\n",
        "        model.RESOURCES = self.resources.keys()\n",
        "\n",
        "        # decision variables\n",
        "        model.x = pyo.Var(\n",
        "            model.RESOURCES,\n",
        "            bounds=lambda model, resource: (0, self.resources[resource][\"available\"]),\n",
        "        )\n",
        "        model.y = pyo.Var(\n",
        "            model.PRODUCTS,\n",
        "            bounds=lambda model, product: (0, self.products[product][\"demand\"]),\n",
        "        )\n",
        "\n",
        "        # use expressions to break up complex objectives\n",
        "        model.revenue = pyo.quicksum(\n",
        "            self.products[product][\"price\"] * model.y[product]\n",
        "            for product in model.products\n",
        "        )\n",
        "        model.cost = pyo.quicksum(\n",
        "            self.resources[resource][\"price\"] * model.x[resource]\n",
        "            for resource in model.resources\n",
        "        )\n",
        "        model.profit = 0.6*(model.revenue - model.cost)\n",
        "\n",
        "        model.pollution = 0.4*pyo.quicksum(\n",
        "            self.products[product][\"carbon\"] * model.y[product] for product in model.PRODUCTS\n",
        "        )\n",
        "\n",
        "\n",
        "        # create objective\n",
        "        @model.Objective(sense=pyo.maximize)\n",
        "        def obj(model):\n",
        "            return model.profit - model.pollution\n",
        "\n",
        "        # create indexed constraint\n",
        "        @model.Constraint(model.RESOURCES)\n",
        "        def materials_used(model, resource):\n",
        "            return (\n",
        "                pyo.quicksum(\n",
        "                    self.processes[product][resource] * model.y[product]\n",
        "                    for product in model.PRODUCTS\n",
        "                )\n",
        "                <= model.x[resource]\n",
        "            )\n",
        "\n",
        "    def solve(self, solver=SOLVER):\n",
        "        \"\"\"\n",
        "        Buildthe model, if necessary, then solve the optimization model.\n",
        "        \"\"\"\n",
        "        self.build_model()\n",
        "        solver.solve(self)\n",
        "        self.solved = True\n",
        "\n",
        "    def report(self):\n",
        "        \"\"\"\n",
        "        Solve, if necessary, then report the model solution.\n",
        "        \"\"\"\n",
        "        if not self.solved:\n",
        "            self.solve(SOLVER)\n",
        "        print(f\"Profit = {pyo.value(self.obj)}\")\n",
        "        print(\"\\nProduction Report\")\n",
        "        for product in m.PRODUCTS:\n",
        "            print(f\" {product}  produced =  {pyo.value(self.y[product])}\")\n",
        "        print(\"\\nResource Report\")\n",
        "        for resource in m.RESOURCES:\n",
        "            print(f\" {resource} consumed = {pyo.value(self.x[resource])}\")\n",
        "\n",
        "\n",
        "m = ProductionModel(products, resources, processes)\n",
        "m.report()"
      ],
      "metadata": {
        "colab": {
          "base_uri": "https://localhost:8080/"
        },
        "outputId": "c71e96bb-5107-49dd-8db4-0b2e49905635",
        "id": "JWL__d6XCNRx"
      },
      "execution_count": null,
      "outputs": [
        {
          "output_type": "stream",
          "name": "stdout",
          "text": [
            "Profit = 160.0\n",
            "\n",
            "Production Report\n",
            " U  produced =  40.0\n",
            " V  produced =  0.0\n",
            "\n",
            "Resource Report\n",
            " M consumed = 400.0\n",
            " labor A consumed = 40.0\n",
            " labor B consumed = 80.0\n"
          ]
        }
      ]
    },
    {
      "cell_type": "markdown",
      "source": [
        "#Goal Programming"
      ],
      "metadata": {
        "id": "Tmcs7qmWK6M6"
      }
    },
    {
      "cell_type": "markdown",
      "source": [
        "##wgp"
      ],
      "metadata": {
        "id": "1WR1RxNaziaY"
      }
    },
    {
      "cell_type": "code",
      "source": [
        "from pyomo.environ import *\n",
        "\n",
        "# Create a Pyomo model\n",
        "model = pyo.ConcreteModel(\"wgp\")\n",
        "\n",
        "# Define decision variables\n",
        "model.x1 = Var(within=NonNegativeReals, bounds=(5,None))\n",
        "model.x2 = Var(within=NonNegativeReals, bounds=(7,None))\n",
        "model.x3 = Var(within=NonNegativeReals, bounds=(5,None))\n",
        "\n",
        "# Define parameters (goals and weights)\n",
        "goal1_target = 3000  # Target for goal 1\n",
        "goal2_target = 400  # Target for goal 2\n",
        "goal3_target = 300  # Target for goal 3\n",
        "price1 = 1\n",
        "price2 = 10\n",
        "price3 = 2\n",
        "\n",
        "# Define deviations (positive and negative)\n",
        "model.d1p = Var(within=NonNegativeReals)  # Positive deviation for goal 1\n",
        "model.d1n = Var(within=NonNegativeReals)  # Negative deviation for goal 1\n",
        "model.d2p = Var(within=NonNegativeReals, bounds=(0,20))  # Positive deviation for goal 2\n",
        "model.d2n = Var(within=NonNegativeReals)  # Negative deviation for goal 2\n",
        "model.d3p = Var(within=NonNegativeReals)  # Positive deviation for goal 2\n",
        "model.d3n = Var(within=NonNegativeReals)  # Negative deviation for goal 2\n",
        "\n",
        "# Define constraints\n",
        "# Main constraints for the decision variables\n",
        "model.constraint1 = Constraint(expr=50 * model.x1 + 100*model.x2 +75*model.x3+ model.d1n - model.d1p == goal1_target)\n",
        "model.constraint2 = Constraint(expr=10*model.x1 + 15 * model.x2 + 17*model.x3 +model.d2n - model.d2p == goal2_target)\n",
        "model.constraint3 = Constraint(expr=5*model.x1 + 15 * model.x2 + 10*model.x3 +model.d3n - model.d3p == goal3_target)\n",
        "\n",
        "\n",
        "# Objective function: minimize weighted sum of deviations\n",
        "model.objective = Objective(\n",
        "    expr=price1 * (model.d1n) + price2 * (model.d2p) + price3*(model.d3p),\n",
        "    sense=minimize\n",
        ")\n",
        "\n",
        "# Solve the model\n",
        "results = SOLVER.solve(model, tee=True)\n",
        "\n",
        "# Display results\n",
        "print(\"Optimal Solution:\")\n",
        "print(f\"x1 = {model.x1()}\\nx2 = {model.x2()}\\nx3 = {model.x3()}\")\n",
        "print(\"Goal Deviations:\")\n",
        "print(f\"d1+ = {model.d1p()}\\nd1- = {model.d1n()}\")\n",
        "print(f\"d2+ = {model.d2p()}\\nd2- = {model.d2n()}\")\n",
        "print(f\"d3+ = {model.d3p()}\\nd3- = {model.d3n()}\")\n",
        "print(\"Objective Value:\", model.objective())"
      ],
      "metadata": {
        "colab": {
          "base_uri": "https://localhost:8080/"
        },
        "id": "inWfEXCAvngW",
        "outputId": "96cedb7a-2909-4ec1-ffec-32a757356034"
      },
      "execution_count": null,
      "outputs": [
        {
          "output_type": "stream",
          "name": "stdout",
          "text": [
            "Running HiGHS 1.9.0 (git hash: fa40bdf): Copyright (c) 2024 HiGHS under MIT licence terms\n",
            "Coefficient ranges:\n",
            "  Matrix [1e+00, 1e+02]\n",
            "  Cost   [1e+00, 1e+01]\n",
            "  Bound  [5e+00, 2e+01]\n",
            "  RHS    [3e+02, 3e+03]\n",
            "Presolving model\n",
            "3 rows, 9 cols, 15 nonzeros  0s\n",
            "3 rows, 9 cols, 15 nonzeros  0s\n",
            "Presolve : Reductions: rows 3(-0); columns 9(-0); elements 15(-0) - Not reduced\n",
            "Problem not reduced by presolve: solving the LP\n",
            "Using EKK dual simplex solver - serial\n",
            "  Iteration        Objective     Infeasibilities num(sum)\n",
            "          0     1.3784057860e-03 Pr: 3(1397.5) 0s\n",
            "          4     6.8833333333e+02 Pr: 0(0) 0s\n",
            "Model status        : Optimal\n",
            "Simplex   iterations: 4\n",
            "Objective value     :  6.8833333333e+02\n",
            "Relative P-D gap    :  3.3032495222e-16\n",
            "HiGHS run time      :          0.00\n",
            "Optimal Solution:\n",
            "x1 = 5.0\n",
            "x2 = 17.666666666666664\n",
            "x3 = 5.0\n",
            "Goal Deviations:\n",
            "d1+ = 0.0\n",
            "d1- = 608.3333333333334\n",
            "d2+ = 0.0\n",
            "d2- = 0.0\n",
            "d3+ = 39.99999999999997\n",
            "d3- = 0.0\n",
            "Objective Value: 688.3333333333333\n"
          ]
        }
      ]
    },
    {
      "cell_type": "markdown",
      "source": [
        "## lgp"
      ],
      "metadata": {
        "id": "fGi8v7D8zo55"
      }
    },
    {
      "cell_type": "code",
      "source": [
        "from pyomo.environ import *\n",
        "\n",
        "# Create a Pyomo model\n",
        "model = pyo.ConcreteModel(\"lgp\")\n",
        "\n",
        "# Define decision variables\n",
        "model.x1 = Var(within=NonNegativeReals, bounds=(5,None))\n",
        "model.x2 = Var(within=NonNegativeReals, bounds=(7,None))\n",
        "model.x3 = Var(within=NonNegativeReals, bounds=(5,None))\n",
        "\n",
        "# Define parameters (goals and weights)\n",
        "goal1_target = 3000  # Target for goal 1\n",
        "goal2_target = 400  # Target for goal 2\n",
        "goal3_target = 300  # Target for goal 3\n",
        "price1 = 1        # Weight for goal 1\n",
        "price2 = 10        # Weight for goal 2\n",
        "price3 = 2        # Weight for goal 3\n",
        "\n",
        "# Define deviations (positive and negative)\n",
        "model.d1p = Var(within=NonNegativeReals)  # Positive deviation for goal 1\n",
        "model.d1n = Var(within=NonNegativeReals)  # Negative deviation for goal 1\n",
        "model.d2p = Var(within=NonNegativeReals, bounds=(0,20))  # Positive deviation for goal 2\n",
        "model.d2n = Var(within=NonNegativeReals)  # Negative deviation for goal 2\n",
        "model.d3p = Var(within=NonNegativeReals)  # Positive deviation for goal 2\n",
        "model.d3n = Var(within=NonNegativeReals)  # Negative deviation for goal 2\n",
        "\n",
        "# Define constraints\n",
        "# Main constraints for the decision variables\n",
        "model.constraint1 = Constraint(expr=50 * model.x1 + 100*model.x2 +75*model.x3+ model.d1n - model.d1p == goal1_target)\n",
        "model.constraint2 = Constraint(expr=10*model.x1 + 15 * model.x2 + 17*model.x3 +model.d2n - model.d2p == goal2_target)\n",
        "model.constraint3 = Constraint(expr=5*model.x1 + 15 * model.x2 + 10*model.x3 +model.d3n - model.d3p == goal3_target)\n",
        "\n",
        "\n",
        "# Objective function: minimize weighted sum of deviations\n",
        "model.objective = Objective(\n",
        "    expr=1000000000000000*(price1 * (model.d1n) + price2 * (model.d2p)) + 10*(price3*(model.d3p)),\n",
        "    sense=minimize\n",
        ")\n",
        "\n",
        "# Solve the model\n",
        "solver = SolverFactory('glpk')  # Use GLPK or another solver\n",
        "results = SOLVER.solve(model, tee=True)\n",
        "\n",
        "# Display results\n",
        "print(\"Optimal Solution:\")\n",
        "print(f\"x1 = {model.x1()}\\nx2 = {model.x2()}\\nx3 = {model.x3()}\")\n",
        "print(\"Goal Deviations:\")\n",
        "print(f\"d1+ = {model.d1p()}\\nd1- = {model.d1n()}\")\n",
        "print(f\"d2+ = {model.d2p()}\\nd2- = {model.d2n()}\")\n",
        "print(f\"d3+ = {model.d3p()}\\nd3- = {model.d3n()}\")\n",
        "print(\"Objective Value:\", model.objective())"
      ],
      "metadata": {
        "colab": {
          "base_uri": "https://localhost:8080/"
        },
        "id": "_9hTd91kyfQ_",
        "outputId": "4c60e594-903c-4174-ffe7-e0dbb711620e"
      },
      "execution_count": null,
      "outputs": [
        {
          "output_type": "stream",
          "name": "stdout",
          "text": [
            "Running HiGHS 1.9.0 (git hash: fa40bdf): Copyright (c) 2024 HiGHS under MIT licence terms\n",
            "Coefficient ranges:\n",
            "  Matrix [1e+00, 1e+02]\n",
            "  Cost   [2e+01, 1e+16]\n",
            "  Bound  [5e+00, 2e+01]\n",
            "  RHS    [3e+02, 3e+03]\n",
            "WARNING: Problem has excessively large costs: consider scaling the costs by 1e+6 or less, or setting option user_cost_scale to -20 or less\n",
            "Presolving model\n",
            "3 rows, 9 cols, 15 nonzeros  0s\n",
            "3 rows, 9 cols, 15 nonzeros  0s\n",
            "Presolve : Reductions: rows 3(-0); columns 9(-0); elements 15(-0) - Not reduced\n",
            "Problem not reduced by presolve: solving the LP\n",
            "Using EKK dual simplex solver - serial\n",
            "  Iteration        Objective     Infeasibilities num(sum)\n",
            "          0     2.3181929696e+00 Pr: 3(1397.5) 0s\n",
            "          4     6.0833333333e+17 Pr: 0(0) 0s\n",
            "Model status        : Optimal\n",
            "Simplex   iterations: 4\n",
            "Objective value     :  6.0833333333e+17\n",
            "Relative P-D gap    :  8.4164383562e-16\n",
            "HiGHS run time      :          0.00\n",
            "Optimal Solution:\n",
            "x1 = 5.0\n",
            "x2 = 17.666666666666664\n",
            "x3 = 5.0\n",
            "Goal Deviations:\n",
            "d1+ = 0.0\n",
            "d1- = 608.3333333333334\n",
            "d2+ = 0.0\n",
            "d2- = 0.0\n",
            "d3+ = 39.99999999999997\n",
            "d3- = 0.0\n",
            "Objective Value: 6.083333333333341e+17\n"
          ]
        }
      ]
    },
    {
      "cell_type": "code",
      "source": [],
      "metadata": {
        "id": "4qeIzA-M0KrM"
      },
      "execution_count": null,
      "outputs": []
    },
    {
      "cell_type": "markdown",
      "source": [
        "#Augemcon"
      ],
      "metadata": {
        "id": "CTDDZoYA5MGb"
      }
    },
    {
      "cell_type": "markdown",
      "source": [
        "References: [1] https://www.linkedin.com/pulse/multi-objective-optimization-pyomo-alireza-soroudi/\n",
        "\n",
        "[2] https://stackoverflow.com/questions/50742999/multi-objective-optimization-example-pyomo"
      ],
      "metadata": {
        "id": "UbRxz-RJDgsc"
      }
    },
    {
      "cell_type": "code",
      "source": [
        "from pyomo.environ import *\n",
        "import matplotlib.pyplot as plt\n",
        "\n",
        "model = ConcreteModel()\n",
        "model.epsilon=Param(initialize=10000,mutable=True)\n",
        "model.x1 = Var(bounds=(1,2))\n",
        "model.x2 = Var(bounds=(1,3))\n",
        "model.OF1= Var(within=NonNegativeReals)\n",
        "model.OF2= Var(within=NonNegativeReals)\n",
        "model.eq1= Constraint(expr= model.OF2==-1.2*model.x1**2+5*model.x2)\n",
        "model.eq2= Constraint(expr= model.OF2<=model.epsilon)\n",
        "model.eq3= Constraint(expr= model.OF1==2*model.x1-0.5*model.x2**2)\n",
        "model.obj1 = Objective(expr=model.OF1, sense=maximize)\n",
        "model.obj2 = Objective(expr=model.OF2, sense=maximize)"
      ],
      "metadata": {
        "id": "l_wVeR0_Akjd"
      },
      "execution_count": 29,
      "outputs": []
    },
    {
      "cell_type": "code",
      "source": [
        "opt = SolverFactory('ipopt', executable='/content/ipopt')\n",
        "model.obj2.deactivate()\n",
        "results = opt.solve(model) # solves and updates instance\n",
        "print('x1 = ',round(value(model.x1),2))\n",
        "print('x2 = ',round(value(model.x2),2))\n",
        "print('obj1 = ',round(value(model.obj1),2))\n",
        "print('obj2 = ',round(value(model.obj2),2))\n",
        "maxOF1=value(model.obj1)\n",
        "minOF2=value(model.obj2)"
      ],
      "metadata": {
        "colab": {
          "base_uri": "https://localhost:8080/"
        },
        "outputId": "4dd85df9-da9c-45e5-ca59-c01232695fb2",
        "id": "_lfJ24jdAkje"
      },
      "execution_count": 30,
      "outputs": [
        {
          "output_type": "stream",
          "name": "stdout",
          "text": [
            "x1 =  2.0\n",
            "x2 =  1.0\n",
            "obj1 =  3.5\n",
            "obj2 =  0.2\n"
          ]
        }
      ]
    },
    {
      "cell_type": "code",
      "source": [
        "model.obj1.deactivate()\n",
        "model.obj2.activate()\n",
        "results = opt.solve(model) # solves and updates instance\n",
        "print('x1 = ',round(value(model.x1),2))\n",
        "print('x2 = ',round(value(model.x2),2))\n",
        "print('obj1 = ',round(value(model.obj1),2))\n",
        "print('obj2 = ',round(value(model.obj2),2))\n",
        "minOF1=value(model.obj1)\n",
        "maxOF2=value(model.obj2)"
      ],
      "metadata": {
        "colab": {
          "base_uri": "https://localhost:8080/"
        },
        "outputId": "dded968c-3761-47fa-a03d-364699375402",
        "id": "eUcfzwyQAkjf"
      },
      "execution_count": 31,
      "outputs": [
        {
          "output_type": "stream",
          "name": "stdout",
          "text": [
            "x1 =  1.63\n",
            "x2 =  2.55\n",
            "obj1 =  0.0\n",
            "obj2 =  9.58\n"
          ]
        }
      ]
    },
    {
      "cell_type": "code",
      "source": [
        "model.del_component(model.obj1)\n",
        "model.del_component(model.obj2)\n",
        "\n",
        "model.delta = Param(initialize=0.00001)\n",
        "\n",
        "model.s = Var(within=NonNegativeReals)\n",
        "\n",
        "model.obj1 = Objective(expr = model.OF1 + model.delta * model.s, sense=maximize)\n",
        "\n",
        "model.C_e = Constraint(expr = model.OF2 - model.s == model.epsilon)\n",
        "\n",
        "Nsteps=21\n",
        "X=[]\n",
        "Y=[]\n",
        "print('  x1  ',' x2 ',' OF1 ',' OF2 ',' Epsilon ')\n",
        "for counter in range(1,Nsteps+1):\n",
        "    model.epsilon=minOF2+(maxOF2-minOF2)*(counter-1)/(Nsteps-1)\n",
        "    results = opt.solve(model) # solves and updates instance\n",
        "    print(\"%5.2f\"% value(model.x1),\"%5.2f\"% value(model.x2),\"%5.2f\"% value(model.obj1),\"%5.2f\"% value(model.OF2), \"%5.2f\"% value(model.epsilon))\n",
        "    X.append(value(model.obj1))\n",
        "    Y.append(value(model.OF2))"
      ],
      "metadata": {
        "colab": {
          "base_uri": "https://localhost:8080/",
          "height": 453
        },
        "id": "hrzesytLAudk",
        "outputId": "41e6ee25-d391-4631-f52c-c4256ab4adb4"
      },
      "execution_count": 32,
      "outputs": [
        {
          "output_type": "stream",
          "name": "stdout",
          "text": [
            "  x1    x2   OF1   OF2   Epsilon \n",
            " 2.00  1.00  3.50  0.20  0.20\n",
            " 2.00  1.09  3.40  0.67  0.67\n",
            " 2.00  1.19  3.29  1.14  1.14\n",
            " 2.00  1.28  3.18  1.61  1.61\n",
            " 2.00  1.38  3.05  2.08  2.08\n",
            " 2.00  1.47  2.92  2.54  2.54\n",
            " 2.00  1.56  2.78  3.01  3.01\n",
            " 2.00  1.66  2.63  3.48  3.48\n",
            " 2.00  1.75  2.47  3.95  3.95\n",
            " 2.00  1.84  2.30  4.42  4.42\n",
            " 2.00  1.94  2.12  4.89  4.89\n",
            " 2.00  2.03  1.94  5.36  5.36\n",
            " 1.98  2.11  1.74  5.83  5.83\n",
            " 1.93  2.16  1.54  6.30  6.30\n",
            " 1.89  2.21  1.34  6.77  6.77\n",
            " 1.84  2.26  1.13  7.23  7.23\n",
            " 1.80  2.32  0.91  7.70  7.70\n",
            " 1.76  2.37  0.69  8.17  8.17\n",
            " 1.71  2.43  0.47  8.64  8.64\n",
            " 1.67  2.49  0.24  9.11  9.11\n",
            " 1.63  2.55  0.00  9.58  9.58\n"
          ]
        },
        {
          "output_type": "execute_result",
          "data": {
            "text/plain": [
              "\"\\nx1_l = []\\nx2_l = []\\nfor i in range(160,190,6):\\n    model.e = i\\n    SOLVER.solve(model);\\n    x1_l.append(value(model.X1))\\n    x2_l.append(value(model.X2))\\nplt.plot(x1_l,x2_l,'o-.');\\nplt.title('efficient Pareto-front');\\nplt.grid(True);\\n\""
            ],
            "application/vnd.google.colaboratory.intrinsic+json": {
              "type": "string"
            }
          },
          "metadata": {},
          "execution_count": 32
        }
      ]
    },
    {
      "cell_type": "code",
      "source": [
        "fig = plt.figure(figsize=(8,6))\n",
        "plt.scatter(X,Y)\n",
        "plt.xlabel('OF1',fontweight='bold')\n",
        "plt.ylabel('OF2',fontweight='bold')\n",
        "plt.grid()\n",
        "plt.show()"
      ],
      "metadata": {
        "colab": {
          "base_uri": "https://localhost:8080/",
          "height": 545
        },
        "outputId": "0d1a79e9-0023-4ed7-99d9-699e88f62f31",
        "id": "YsfQMIzFAkjf"
      },
      "execution_count": 33,
      "outputs": [
        {
          "output_type": "display_data",
          "data": {
            "text/plain": [
              "<Figure size 800x600 with 1 Axes>"
            ],
            "image/png": "[encoded data removed]"
          },
          "metadata": {}
        }
      ]
    },
    {
      "cell_type": "markdown",
      "source": [
        "# Epsilon Constraint"
      ],
      "metadata": {
        "id": "E5B70aX3_qsU"
      }
    },
    {
      "cell_type": "markdown",
      "source": [
        "Reference: [1] https://www.linkedin.com/pulse/multi-objective-optimization-pyomo-alireza-soroudi/"
      ],
      "metadata": {
        "id": "IAagEfwmDcYd"
      }
    },
    {
      "cell_type": "code",
      "source": [
        "from pyomo.environ import *\n",
        "import matplotlib.pyplot as plt\n",
        "\n",
        "model = ConcreteModel()\n",
        "model.epsilon=Param(initialize=10000,mutable=True)\n",
        "model.x1 = Var(bounds=(1,2))\n",
        "model.x2 = Var(bounds=(1,3))\n",
        "model.OF1= Var(within=NonNegativeReals)\n",
        "model.OF2= Var(within=NonNegativeReals)\n",
        "model.eq1= Constraint(expr= model.OF2==-1.2*model.x1**2+5*model.x2)\n",
        "model.eq2= Constraint(expr= model.OF2<=model.epsilon)\n",
        "model.eq3= Constraint(expr= model.OF1==2*model.x1-0.5*model.x2**2)\n",
        "model.obj1 = Objective(expr=model.OF1, sense=maximize)\n",
        "model.obj2 = Objective(expr=model.OF2, sense=maximize)"
      ],
      "metadata": {
        "id": "CUcYcLgB8KvJ"
      },
      "execution_count": null,
      "outputs": []
    },
    {
      "cell_type": "code",
      "source": [
        "opt = SolverFactory('ipopt', executable='/content/ipopt')\n",
        "model.obj2.deactivate()\n",
        "results = opt.solve(model) # solves and updates instance\n",
        "print('x1 = ',round(value(model.x1),2))\n",
        "print('x2 = ',round(value(model.x2),2))\n",
        "print('obj1 = ',round(value(model.obj1),2))\n",
        "print('obj2 = ',round(value(model.obj2),2))\n",
        "maxOF1=value(model.obj1)\n",
        "minOF2=value(model.obj2)"
      ],
      "metadata": {
        "colab": {
          "base_uri": "https://localhost:8080/"
        },
        "id": "E5Xp3xFA8aZg",
        "outputId": "f0841319-658b-4549-e0ff-b2b9f5049452"
      },
      "execution_count": null,
      "outputs": [
        {
          "output_type": "stream",
          "name": "stdout",
          "text": [
            "x1 =  2.0\n",
            "x2 =  1.0\n",
            "obj1 =  3.5\n",
            "obj2 =  0.2\n"
          ]
        }
      ]
    },
    {
      "cell_type": "code",
      "source": [
        "model.obj1.deactivate()\n",
        "model.obj2.activate()\n",
        "results = opt.solve(model) # solves and updates instance\n",
        "print('x1 = ',round(value(model.x1),2))\n",
        "print('x2 = ',round(value(model.x2),2))\n",
        "print('obj1 = ',round(value(model.obj1),2))\n",
        "print('obj2 = ',round(value(model.obj2),2))\n",
        "minOF1=value(model.obj1)\n",
        "maxOF2=value(model.obj2)"
      ],
      "metadata": {
        "colab": {
          "base_uri": "https://localhost:8080/"
        },
        "id": "Z4HwxoqM8cnW",
        "outputId": "24bea698-d6bd-48aa-d766-afaf5024e0b5"
      },
      "execution_count": null,
      "outputs": [
        {
          "output_type": "stream",
          "name": "stdout",
          "text": [
            "x1 =  1.63\n",
            "x2 =  2.55\n",
            "obj1 =  0.0\n",
            "obj2 =  9.58\n"
          ]
        }
      ]
    },
    {
      "cell_type": "code",
      "source": [
        "Nsteps=21\n",
        "X=[]\n",
        "Y=[]\n",
        "print('  x1  ',' x2 ',' OF1 ',' OF2 ',' Epsilon ')\n",
        "for counter in range(1,Nsteps+1):\n",
        "    model.epsilon=minOF2+(maxOF2-minOF2)*(counter-1)/(Nsteps-1)\n",
        "    results = opt.solve(model) # solves and updates instance\n",
        "    print(\"%5.2f\"% value(model.x1),\"%5.2f\"% value(model.x2),\"%5.2f\"% value(model.obj1),\"%5.2f\"% value(model.obj2), \"%5.2f\"% value(model.epsilon))\n",
        "    X.append(value(model.obj1))\n",
        "    Y.append(value(model.obj2))"
      ],
      "metadata": {
        "colab": {
          "base_uri": "https://localhost:8080/"
        },
        "id": "dHBAwHeM9UDv",
        "outputId": "658ca9a5-b51a-4dc7-f02e-c6df39b4a328"
      },
      "execution_count": null,
      "outputs": [
        {
          "output_type": "stream",
          "name": "stdout",
          "text": [
            "  x1    x2   OF1   OF2   Epsilon \n",
            " 2.00  1.00  3.50  0.20  0.20\n",
            " 1.95  1.05  3.36  0.67  0.67\n",
            " 1.90  1.10  3.20  1.14  1.14\n",
            " 1.86  1.15  3.06  1.61  1.61\n",
            " 1.82  1.21  2.91  2.08  2.08\n",
            " 1.78  1.27  2.75  2.54  2.54\n",
            " 1.74  1.33  2.60  3.01  3.01\n",
            " 1.71  1.40  2.44  3.48  3.48\n",
            " 1.68  1.47  2.28  3.95  3.95\n",
            " 1.65  1.54  2.12  4.42  4.42\n",
            " 1.63  1.61  1.95  4.89  4.89\n",
            " 1.61  1.69  1.78  5.36  5.36\n",
            " 1.59  1.77  1.61  5.83  5.83\n",
            " 1.57  1.85  1.43  6.30  6.30\n",
            " 1.56  1.94  1.24  6.77  6.77\n",
            " 1.55  2.02  1.05  7.23  7.23\n",
            " 1.54  2.11  0.85  7.70  7.70\n",
            " 1.53  2.20  0.65  8.17  8.17\n",
            " 1.53  2.29  0.44  8.64  8.64\n",
            " 1.53  2.39  0.22  9.11  9.11\n",
            " 1.63  2.55  0.00  9.58  9.58\n"
          ]
        }
      ]
    },
    {
      "cell_type": "code",
      "source": [
        "fig = plt.figure(figsize=(8,6))\n",
        "plt.scatter(X,Y)\n",
        "plt.xlabel('OF1',fontweight='bold')\n",
        "plt.ylabel('OF2',fontweight='bold')\n",
        "plt.grid()\n",
        "plt.show()"
      ],
      "metadata": {
        "colab": {
          "base_uri": "https://localhost:8080/",
          "height": 545
        },
        "id": "AS1Fp8HB9crV",
        "outputId": "4130475e-b899-43f2-8e0b-a72b001503af"
      },
      "execution_count": null,
      "outputs": [
        {
          "output_type": "display_data",
          "data": {
            "text/plain": [
              "<Figure size 800x600 with 1 Axes>"
            ],
            "image/png": "[encoded data removed]"
          },
          "metadata": {}
        }
      ]
    },
    {
      "cell_type": "code",
      "source": [],
      "metadata": {
        "id": "uyGclYl69pLB"
      },
      "execution_count": null,
      "outputs": []
    }
  ]
}