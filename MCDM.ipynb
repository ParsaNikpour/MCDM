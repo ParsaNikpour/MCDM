{
  "nbformat": 4,
  "nbformat_minor": 0,
  "metadata": {
    "colab": {
      "provenance": [],
      "collapsed_sections": [
        "bxo16IT6HjSM",
        "heJCq4FRSy0D",
        "6Orh4rJlPYC7",
        "Kh-EdIauSYLj",
        "KghrA1_TJaL6",
        "5qqdqLdWje1D",
        "KP0pInSQjiDa",
        "gTyj0397jlfB",
        "4NeU5PCejoCM",
        "XaOQgQccjtCy",
        "WBjzbBHPkCIz",
        "vX2hSjkTkEbM",
        "GX94Pj32kKjK"
      ]
    },
    "kernelspec": {
      "name": "python3",
      "display_name": "Python 3"
    },
    "language_info": {
      "name": "python"
    }
  },
  "cells": [
    {
      "cell_type": "markdown",
      "source": [
        "### *Parsa Nikpour*\n",
        "\n",
        "### *Email: parsanikpour@ut.ac.ir*"
      ],
      "metadata": {
        "id": "FD5VsFgsNVdK"
      }
    },
    {
      "cell_type": "markdown",
      "source": [
        "# **Import**"
      ],
      "metadata": {
        "id": "bxo16IT6HjSM"
      }
    },
    {
      "cell_type": "code",
      "source": [
        "import itertools\n",
        "import numpy as np\n",
        "from numpy import linalg as LA\n",
        "from scipy.stats import gmean\n",
        "import scipy.optimize as optimize\n",
        "from scipy.optimize import minimize, Bounds, NonlinearConstraint, LinearConstraint"
      ],
      "metadata": {
        "id": "9Qpf8zRL7an-"
      },
      "execution_count": null,
      "outputs": []
    },
    {
      "cell_type": "code",
      "source": [
        "\"\"\"\n",
        "import pandas as pd\n",
        "#dataset = pd.read_excel(\"dataset.xlsx\")    # اگر دیتای شما در فایل اکسل است\n",
        "#dataset = pd.read_csv(\"dataset.csv\")       # اگر دیتای شما در فایل csv است\n",
        "dataset = np.array(dataset)\n",
        "\"\"\""
      ],
      "metadata": {
        "id": "QN8lSs9xwgr9",
        "colab": {
          "base_uri": "https://localhost:8080/"
        },
        "outputId": "a0a0bdb7-a331-451b-957e-9faec41f6f12"
      },
      "execution_count": null,
      "outputs": [
        {
          "output_type": "execute_result",
          "data": {
            "text/plain": [
              "'\\nimport pandas as pd\\n#dataset = pd.read_excel(\"dataset.xlsx\")    # اگر دیتای شما در فایل اکسل است\\n#dataset = pd.read_csv(\"dataset.csv\")       # اگر دیتای شما در فایل csv است\\ndataset = np.array(dataset)\\n'"
            ],
            "application/vnd.google.colaboratory.intrinsic+json": {
              "type": "string"
            }
          },
          "metadata": {},
          "execution_count": 2
        }
      ]
    },
    {
      "cell_type": "markdown",
      "source": [
        "#**Numpy**"
      ],
      "metadata": {
        "id": "heJCq4FRSy0D"
      }
    },
    {
      "cell_type": "code",
      "source": [
        "import numpy as np\n",
        "\n",
        "arr = np.array([1, 2, 3, 4, 5])\n",
        "\n",
        "print(arr)\n",
        "\n",
        "print(type(arr))"
      ],
      "metadata": {
        "colab": {
          "base_uri": "https://localhost:8080/"
        },
        "id": "ZClzaLdnS3d5",
        "outputId": "32e46c3c-ee92-4dce-bcae-80453d8b9ca2"
      },
      "execution_count": null,
      "outputs": [
        {
          "output_type": "stream",
          "name": "stdout",
          "text": [
            "[1 2 3 4 5]\n",
            "<class 'numpy.ndarray'>\n"
          ]
        }
      ]
    },
    {
      "cell_type": "code",
      "source": [
        "#0 Dimensional Array\n",
        "import numpy as np\n",
        "\n",
        "arr = np.array(42)\n",
        "\n",
        "print(arr)"
      ],
      "metadata": {
        "colab": {
          "base_uri": "https://localhost:8080/"
        },
        "id": "9rUYQ0eIS79H",
        "outputId": "3cda4c64-8b8f-4a7a-833a-8eef3d142775"
      },
      "execution_count": null,
      "outputs": [
        {
          "output_type": "stream",
          "name": "stdout",
          "text": [
            "42\n"
          ]
        }
      ]
    },
    {
      "cell_type": "code",
      "source": [
        "# 1 Dimensional array\n",
        "import numpy as np\n",
        "\n",
        "arr = np.array([1, 2, 3, 4, 5])\n",
        "\n",
        "print(arr)"
      ],
      "metadata": {
        "colab": {
          "base_uri": "https://localhost:8080/"
        },
        "id": "7kvzlTzzTFs-",
        "outputId": "68a83429-a6bc-4f52-8726-2f68f98ad03b"
      },
      "execution_count": null,
      "outputs": [
        {
          "output_type": "stream",
          "name": "stdout",
          "text": [
            "[1 2 3 4 5]\n"
          ]
        }
      ]
    },
    {
      "cell_type": "code",
      "source": [
        "# 2 Dimensional array\n",
        "import numpy as np\n",
        "\n",
        "arr = np.array([[1, 2, 3], [4, 5, 6]])\n",
        "\n",
        "print(arr)"
      ],
      "metadata": {
        "colab": {
          "base_uri": "https://localhost:8080/"
        },
        "id": "cnFWHEF_TOFm",
        "outputId": "29cd0191-1887-41dd-ceae-0cbbbc4e6735"
      },
      "execution_count": null,
      "outputs": [
        {
          "output_type": "stream",
          "name": "stdout",
          "text": [
            "[[1 2 3]\n",
            " [4 5 6]]\n"
          ]
        }
      ]
    },
    {
      "cell_type": "code",
      "source": [
        "# 3 Dimensional Array\n",
        "import numpy as np\n",
        "\n",
        "arr = np.array([[[1,2,3],[4,5,6]], [[1,2,3],[4,5,6]]])\n",
        "\n",
        "arr = np.array([[[1, 2, 3], [4, 5, 6]], [[1, 2, 3], [4, 5, 6]]])\n",
        "\n",
        "print(arr)"
      ],
      "metadata": {
        "colab": {
          "base_uri": "https://localhost:8080/"
        },
        "id": "OIarM8xyTTVG",
        "outputId": "9a2255de-2ca2-4b58-9c10-edf062a7c302"
      },
      "execution_count": null,
      "outputs": [
        {
          "output_type": "stream",
          "name": "stdout",
          "text": [
            "[[[1 2 3]\n",
            "  [4 5 6]]\n",
            "\n",
            " [[1 2 3]\n",
            "  [4 5 6]]]\n"
          ]
        }
      ]
    },
    {
      "cell_type": "code",
      "source": [
        "import numpy as np\n",
        "\n",
        "a = np.array(42)\n",
        "b = np.array([1, 2, 3, 4, 5])\n",
        "c = np.array([[1, 2, 3], [4, 5, 6]])\n",
        "d = np.array([[[1, 2, 3], [4, 5, 6]], [[1, 2, 3], [4, 5, 6]]])\n",
        "\n",
        "print(a.ndim)\n",
        "print(b.ndim)\n",
        "print(c.ndim)\n",
        "print(d.ndim)"
      ],
      "metadata": {
        "colab": {
          "base_uri": "https://localhost:8080/"
        },
        "id": "p1plCijkTaKL",
        "outputId": "f49919a8-a0df-4c5b-ad83-645a98252754"
      },
      "execution_count": null,
      "outputs": [
        {
          "output_type": "stream",
          "name": "stdout",
          "text": [
            "0\n",
            "1\n",
            "2\n",
            "3\n"
          ]
        }
      ]
    },
    {
      "cell_type": "code",
      "source": [
        "import numpy as np\n",
        "\n",
        "arr = np.array([1, 2, 3, 4], ndmin=5)\n",
        "\n",
        "print(arr)\n",
        "print('number of dimensions :', arr.ndim)"
      ],
      "metadata": {
        "colab": {
          "base_uri": "https://localhost:8080/"
        },
        "id": "0tvnMMpKTzFq",
        "outputId": "f32dfe21-43b9-4269-815d-1760b21ccf16"
      },
      "execution_count": null,
      "outputs": [
        {
          "output_type": "stream",
          "name": "stdout",
          "text": [
            "[[[[[1 2 3 4]]]]]\n",
            "number of dimensions : 5\n"
          ]
        }
      ]
    },
    {
      "cell_type": "code",
      "source": [
        "import numpy as np\n",
        "\n",
        "arr = np.array([1, 2, 3, 4])\n",
        "\n",
        "print(arr[0])"
      ],
      "metadata": {
        "colab": {
          "base_uri": "https://localhost:8080/"
        },
        "id": "9P9IwltxT0pE",
        "outputId": "8252534f-a36d-4917-a4c5-ccde438dd89b"
      },
      "execution_count": null,
      "outputs": [
        {
          "output_type": "stream",
          "name": "stdout",
          "text": [
            "1\n"
          ]
        }
      ]
    },
    {
      "cell_type": "code",
      "source": [
        "import numpy as np\n",
        "\n",
        "arr = np.array([[1,2,3,4,5], [6,7,8,9,10]])\n",
        "\n",
        "print('2nd element on 1st row: ', arr[0, 1])"
      ],
      "metadata": {
        "colab": {
          "base_uri": "https://localhost:8080/"
        },
        "id": "XA6-Jt4OT8wR",
        "outputId": "26f0c2bf-45f8-4d2d-ba9b-777f6028ad74"
      },
      "execution_count": null,
      "outputs": [
        {
          "output_type": "stream",
          "name": "stdout",
          "text": [
            "2nd element on 1st row:  2\n"
          ]
        }
      ]
    },
    {
      "cell_type": "code",
      "source": [
        "import numpy as np\n",
        "\n",
        "arr = np.array([[[1, 2, 3], [4, 5, 6]], [[7, 8, 9], [10, 11, 12]]])\n",
        "\n",
        "print(arr[0, 1, 2])"
      ],
      "metadata": {
        "colab": {
          "base_uri": "https://localhost:8080/"
        },
        "id": "pQeuVYFdT-BN",
        "outputId": "024c48a5-94ba-443d-988b-388d142c325f"
      },
      "execution_count": null,
      "outputs": [
        {
          "output_type": "stream",
          "name": "stdout",
          "text": [
            "6\n"
          ]
        }
      ]
    },
    {
      "cell_type": "code",
      "source": [
        "import numpy as np\n",
        "\n",
        "arr = np.array([[1,2,3,4,5], [6,7,8,9,10]])\n",
        "\n",
        "print('Last element from 2nd dim: ', arr[1, -1])"
      ],
      "metadata": {
        "colab": {
          "base_uri": "https://localhost:8080/"
        },
        "id": "pmD5eYqdUAqw",
        "outputId": "4e44805c-a283-4017-ce7f-9dbf4885f404"
      },
      "execution_count": null,
      "outputs": [
        {
          "output_type": "stream",
          "name": "stdout",
          "text": [
            "Last element from 2nd dim:  10\n"
          ]
        }
      ]
    },
    {
      "cell_type": "code",
      "source": [
        "import numpy as np\n",
        "\n",
        "arr = np.array([1, 2, 3, 4, 5, 6, 7])\n",
        "\n",
        "print(arr[1:5])"
      ],
      "metadata": {
        "colab": {
          "base_uri": "https://localhost:8080/"
        },
        "id": "klMJWxI6UI6-",
        "outputId": "479dc1e4-61f4-4fe6-9bf8-e47c293d6532"
      },
      "execution_count": null,
      "outputs": [
        {
          "output_type": "stream",
          "name": "stdout",
          "text": [
            "[2 3 4 5]\n"
          ]
        }
      ]
    },
    {
      "cell_type": "code",
      "source": [
        "import numpy as np\n",
        "\n",
        "arr = np.array([1, 2, 3, 4, 5, 6, 7])\n",
        "\n",
        "print(arr[-3:-1])"
      ],
      "metadata": {
        "colab": {
          "base_uri": "https://localhost:8080/"
        },
        "id": "qq-_vJ1GUKCj",
        "outputId": "98355819-905a-4e85-cdb8-ad5a95bee2b6"
      },
      "execution_count": null,
      "outputs": [
        {
          "output_type": "stream",
          "name": "stdout",
          "text": [
            "[5 6]\n"
          ]
        }
      ]
    },
    {
      "cell_type": "code",
      "source": [
        "import numpy as np\n",
        "\n",
        "arr = np.array([1, 2, 3, 4, 5, 6, 7])\n",
        "\n",
        "print(arr[1:5:2])\n",
        "\n",
        "import numpy as np\n",
        "\n",
        "arr = np.array([1, 2, 3, 4, 5, 6, 7])\n",
        "\n",
        "print(arr[::2])"
      ],
      "metadata": {
        "colab": {
          "base_uri": "https://localhost:8080/"
        },
        "id": "vg89cGymUP_3",
        "outputId": "e80ac556-29dd-4716-fe93-b335f2e22d85"
      },
      "execution_count": null,
      "outputs": [
        {
          "output_type": "stream",
          "name": "stdout",
          "text": [
            "[2 4]\n",
            "[1 3 5 7]\n"
          ]
        }
      ]
    },
    {
      "cell_type": "code",
      "source": [
        "import numpy as np\n",
        "\n",
        "arr = np.array([[1, 2, 3, 4, 5], [6, 7, 8, 9, 10]])\n",
        "\n",
        "print(arr[1, 1:4])"
      ],
      "metadata": {
        "colab": {
          "base_uri": "https://localhost:8080/"
        },
        "id": "9w-g9kELUYAb",
        "outputId": "a27af28f-7af5-4b9b-ab12-c0cf6dff6874"
      },
      "execution_count": null,
      "outputs": [
        {
          "output_type": "stream",
          "name": "stdout",
          "text": [
            "[7 8 9]\n"
          ]
        }
      ]
    },
    {
      "cell_type": "code",
      "source": [
        "import numpy as np\n",
        "\n",
        "arr = np.array([[1, 2, 3, 4], [5, 6, 7, 8]])\n",
        "\n",
        "print(arr.shape)"
      ],
      "metadata": {
        "colab": {
          "base_uri": "https://localhost:8080/"
        },
        "id": "3RuH84jNUmib",
        "outputId": "c4cac77b-5f35-4bae-f264-63f016735a09"
      },
      "execution_count": null,
      "outputs": [
        {
          "output_type": "stream",
          "name": "stdout",
          "text": [
            "(2, 4)\n"
          ]
        }
      ]
    },
    {
      "cell_type": "code",
      "source": [
        "import numpy as np\n",
        "\n",
        "arr = np.array([1, 2, 3, 4, 5, 6, 7, 8, 9, 10, 11, 12])\n",
        "\n",
        "newarr = arr.reshape(4, 3)\n",
        "\n",
        "print(newarr)"
      ],
      "metadata": {
        "colab": {
          "base_uri": "https://localhost:8080/"
        },
        "id": "zPSpUgK8Unx4",
        "outputId": "8f81824b-ee1f-450b-e583-a354c5bb5cb5"
      },
      "execution_count": null,
      "outputs": [
        {
          "output_type": "stream",
          "name": "stdout",
          "text": [
            "[[ 1  2  3]\n",
            " [ 4  5  6]\n",
            " [ 7  8  9]\n",
            " [10 11 12]]\n"
          ]
        }
      ]
    },
    {
      "cell_type": "code",
      "source": [
        "import numpy as np\n",
        "\n",
        "arr = np.array([1, 2, 3, 4, 5, 6, 7, 8])\n",
        "\n",
        "newarr = arr.reshape(2, 2, -1)\n",
        "\n",
        "print(newarr)"
      ],
      "metadata": {
        "colab": {
          "base_uri": "https://localhost:8080/"
        },
        "id": "5Qu8aZqmUtOe",
        "outputId": "ddf93800-18ed-4a34-a2bb-8bae68005f80"
      },
      "execution_count": null,
      "outputs": [
        {
          "output_type": "stream",
          "name": "stdout",
          "text": [
            "[[[1 2]\n",
            "  [3 4]]\n",
            "\n",
            " [[5 6]\n",
            "  [7 8]]]\n"
          ]
        }
      ]
    },
    {
      "cell_type": "code",
      "source": [
        "# Flattening\n",
        "import numpy as np\n",
        "\n",
        "arr = np.array([[1, 2, 3], [4, 5, 6]])\n",
        "\n",
        "newarr = arr.reshape(-1)\n",
        "\n",
        "print(newarr)"
      ],
      "metadata": {
        "colab": {
          "base_uri": "https://localhost:8080/"
        },
        "id": "jDsEbRHZUxWJ",
        "outputId": "2b89cfbf-e5d3-4d99-e65a-a6102b8b3443"
      },
      "execution_count": null,
      "outputs": [
        {
          "output_type": "stream",
          "name": "stdout",
          "text": [
            "[1 2 3 4 5 6]\n"
          ]
        }
      ]
    },
    {
      "cell_type": "code",
      "source": [
        "import numpy as np\n",
        "\n",
        "arr = np.array([1, 2, 3])\n",
        "\n",
        "for x in arr:\n",
        "  print(x)\n",
        "\n",
        "print(\"\\n\")\n",
        "\n",
        "import numpy as np\n",
        "\n",
        "arr = np.array([[1, 2, 3], [4, 5, 6]])\n",
        "\n",
        "for x in arr:\n",
        "  print(x)\n",
        "\n",
        "\n",
        "print(\"\\n\")\n",
        "\n",
        "import numpy as np\n",
        "\n",
        "arr = np.array([[1, 2, 3], [4, 5, 6]])\n",
        "\n",
        "for x in arr:\n",
        "  for y in x:\n",
        "    print(y)"
      ],
      "metadata": {
        "colab": {
          "base_uri": "https://localhost:8080/"
        },
        "id": "g0cCvKzYU7lQ",
        "outputId": "e3356e32-24e8-4431-a0fd-67896b311fa5"
      },
      "execution_count": null,
      "outputs": [
        {
          "output_type": "stream",
          "name": "stdout",
          "text": [
            "1\n",
            "2\n",
            "3\n",
            "\n",
            "\n",
            "[1 2 3]\n",
            "[4 5 6]\n",
            "\n",
            "\n",
            "1\n",
            "2\n",
            "3\n",
            "4\n",
            "5\n",
            "6\n"
          ]
        }
      ]
    },
    {
      "cell_type": "code",
      "source": [
        "import numpy as np\n",
        "\n",
        "arr = np.array([[[1, 2], [3, 4]], [[5, 6], [7, 8]]])\n",
        "\n",
        "for x in np.nditer(arr):\n",
        "  print(x)"
      ],
      "metadata": {
        "colab": {
          "base_uri": "https://localhost:8080/"
        },
        "id": "NKRkREHhVGyx",
        "outputId": "9ece4fe0-a0c9-443b-938e-ee13ab4033af"
      },
      "execution_count": null,
      "outputs": [
        {
          "output_type": "stream",
          "name": "stdout",
          "text": [
            "1\n",
            "2\n",
            "3\n",
            "4\n",
            "5\n",
            "6\n",
            "7\n",
            "8\n"
          ]
        }
      ]
    },
    {
      "cell_type": "code",
      "source": [
        "import numpy as np\n",
        "\n",
        "arr = np.array([1, 2, 3])\n",
        "\n",
        "for x in np.nditer(arr, flags=['buffered'], op_dtypes=['S']):\n",
        "  print(x)"
      ],
      "metadata": {
        "colab": {
          "base_uri": "https://localhost:8080/"
        },
        "id": "2eUMbmd1VK6n",
        "outputId": "ba82782f-c5dd-4e1e-fcda-7cf7bb8a9b4a"
      },
      "execution_count": null,
      "outputs": [
        {
          "output_type": "stream",
          "name": "stdout",
          "text": [
            "b'1'\n",
            "b'2'\n",
            "b'3'\n"
          ]
        }
      ]
    },
    {
      "cell_type": "code",
      "source": [
        "import numpy as np\n",
        "\n",
        "arr = np.array([[1, 2, 3, 4], [5, 6, 7, 8]])\n",
        "\n",
        "for x in np.nditer(arr[:, ::2]):\n",
        "  print(x)"
      ],
      "metadata": {
        "colab": {
          "base_uri": "https://localhost:8080/"
        },
        "id": "L9-KR1i-VN_N",
        "outputId": "10953a9b-2382-4600-fa46-889be980a75d"
      },
      "execution_count": null,
      "outputs": [
        {
          "output_type": "stream",
          "name": "stdout",
          "text": [
            "1\n",
            "3\n",
            "5\n",
            "7\n"
          ]
        }
      ]
    },
    {
      "cell_type": "code",
      "source": [
        "import numpy as np\n",
        "\n",
        "arr = np.array([1, 2, 3])\n",
        "\n",
        "for idx, x in np.ndenumerate(arr):\n",
        "  print(idx, x)"
      ],
      "metadata": {
        "colab": {
          "base_uri": "https://localhost:8080/"
        },
        "id": "qTmRU8UfVQuY",
        "outputId": "37594c9e-ca16-4620-9fea-339ea3a4baf8"
      },
      "execution_count": null,
      "outputs": [
        {
          "output_type": "stream",
          "name": "stdout",
          "text": [
            "(0,) 1\n",
            "(1,) 2\n",
            "(2,) 3\n"
          ]
        }
      ]
    },
    {
      "cell_type": "code",
      "source": [
        "import numpy as np\n",
        "\n",
        "arr1 = np.array([[1, 2], [3, 4]])\n",
        "\n",
        "arr2 = np.array([[5, 6], [7, 8]])\n",
        "arr2[0,1] =7\n",
        "\n",
        "arr = np.concatenate((arr1, arr2), axis=0)\n",
        "\n",
        "print(arr)"
      ],
      "metadata": {
        "colab": {
          "base_uri": "https://localhost:8080/"
        },
        "id": "ElLBa74IVVnv",
        "outputId": "73441e6b-cd7c-47ad-fbd8-5a1574940c23"
      },
      "execution_count": null,
      "outputs": [
        {
          "output_type": "stream",
          "name": "stdout",
          "text": [
            "[[1 2]\n",
            " [3 4]\n",
            " [5 6]\n",
            " [7 8]]\n"
          ]
        }
      ]
    },
    {
      "cell_type": "code",
      "source": [
        "import numpy as np\n",
        "\n",
        "arr = np.array([1, 2, 3, 4, 5, 6])\n",
        "\n",
        "newarr = np.array_split(arr, 4)\n",
        "\n",
        "print(newarr)"
      ],
      "metadata": {
        "colab": {
          "base_uri": "https://localhost:8080/"
        },
        "id": "CHP6Gx4MVhEa",
        "outputId": "39805861-b69b-4ad5-a2fc-d4a9e1203ae5"
      },
      "execution_count": null,
      "outputs": [
        {
          "output_type": "stream",
          "name": "stdout",
          "text": [
            "[array([1, 2]), array([3, 4]), array([5]), array([6])]\n"
          ]
        }
      ]
    },
    {
      "cell_type": "code",
      "source": [
        "import numpy as np\n",
        "\n",
        "arr = np.array([[1, 2, 3], [4, 5, 6], [7, 8, 9], [10, 11, 12], [13, 14, 15], [16, 17, 18]])\n",
        "\n",
        "newarr = np.array_split(arr, 3, axis=1)\n",
        "\n",
        "print(newarr)"
      ],
      "metadata": {
        "colab": {
          "base_uri": "https://localhost:8080/"
        },
        "id": "bSOyCbulVrmh",
        "outputId": "ffe5dee3-f2d5-4d2f-cc1a-6a7bbee76dae"
      },
      "execution_count": null,
      "outputs": [
        {
          "output_type": "stream",
          "name": "stdout",
          "text": [
            "[array([[ 1],\n",
            "       [ 4],\n",
            "       [ 7],\n",
            "       [10],\n",
            "       [13],\n",
            "       [16]]), array([[ 2],\n",
            "       [ 5],\n",
            "       [ 8],\n",
            "       [11],\n",
            "       [14],\n",
            "       [17]]), array([[ 3],\n",
            "       [ 6],\n",
            "       [ 9],\n",
            "       [12],\n",
            "       [15],\n",
            "       [18]])]\n"
          ]
        }
      ]
    },
    {
      "cell_type": "code",
      "source": [
        "import numpy as np\n",
        "\n",
        "arr = np.array([[1, 2, 3], [4, 5, 6], [7, 8, 9], [10, 11, 12], [13, 14, 15], [16, 17, 18]])\n",
        "\n",
        "newarr = np.hsplit(arr, 3)\n",
        "\n",
        "print(newarr)"
      ],
      "metadata": {
        "colab": {
          "base_uri": "https://localhost:8080/"
        },
        "id": "DkVXXgq8VtIQ",
        "outputId": "61d6a5b3-c111-4c3a-c45e-08cdacd541f8"
      },
      "execution_count": null,
      "outputs": [
        {
          "output_type": "stream",
          "name": "stdout",
          "text": [
            "[array([[ 1],\n",
            "       [ 4],\n",
            "       [ 7],\n",
            "       [10],\n",
            "       [13],\n",
            "       [16]]), array([[ 2],\n",
            "       [ 5],\n",
            "       [ 8],\n",
            "       [11],\n",
            "       [14],\n",
            "       [17]]), array([[ 3],\n",
            "       [ 6],\n",
            "       [ 9],\n",
            "       [12],\n",
            "       [15],\n",
            "       [18]])]\n"
          ]
        }
      ]
    },
    {
      "cell_type": "code",
      "source": [
        "import numpy as np\n",
        "\n",
        "arr = np.array([1, 2, 3, 4, 5, 4, 4])\n",
        "\n",
        "x = np.where(arr == 4)\n",
        "\n",
        "print(x)"
      ],
      "metadata": {
        "colab": {
          "base_uri": "https://localhost:8080/"
        },
        "id": "TSAr21vhV3zD",
        "outputId": "3ca39d74-9232-498a-d401-bc794756f811"
      },
      "execution_count": null,
      "outputs": [
        {
          "output_type": "stream",
          "name": "stdout",
          "text": [
            "(array([3, 5, 6]),)\n"
          ]
        }
      ]
    },
    {
      "cell_type": "code",
      "source": [
        "import numpy as np\n",
        "\n",
        "arr = np.array([[3, 2, 4], [5, 0, 1]])\n",
        "\n",
        "print(np.sort(arr))"
      ],
      "metadata": {
        "colab": {
          "base_uri": "https://localhost:8080/"
        },
        "id": "a5d5_YtZWFK7",
        "outputId": "92cd9299-5d39-471f-b77e-7ef649f407eb"
      },
      "execution_count": null,
      "outputs": [
        {
          "output_type": "stream",
          "name": "stdout",
          "text": [
            "[[2 3 4]\n",
            " [0 1 5]]\n"
          ]
        }
      ]
    },
    {
      "cell_type": "code",
      "source": [
        "import numpy as np\n",
        "\n",
        "arr = np.array([41, 42, 43, 44])\n",
        "\n",
        "x = [True, False, True, False]\n",
        "\n",
        "newarr = arr[x]\n",
        "\n",
        "print(newarr)"
      ],
      "metadata": {
        "colab": {
          "base_uri": "https://localhost:8080/"
        },
        "id": "6y3MrsfmWM7F",
        "outputId": "3ffb046b-e113-4217-d5dc-b4f008943f62"
      },
      "execution_count": null,
      "outputs": [
        {
          "output_type": "stream",
          "name": "stdout",
          "text": [
            "[41 43]\n"
          ]
        }
      ]
    },
    {
      "cell_type": "markdown",
      "source": [
        "#**Likert and Normalization**"
      ],
      "metadata": {
        "id": "6Orh4rJlPYC7"
      }
    },
    {
      "cell_type": "code",
      "source": [
        "# مقیاس لیکرت\n",
        "def Likert(dataset, criterion):\n",
        "  for i in range(dataset.shape[0]):\n",
        "          for j in range(dataset.shape[1]):\n",
        "              if dataset[i,j] == \"Very Low\":\n",
        "                if criterion[j] == 'max':\n",
        "                  dataset[i,j] = 1\n",
        "                else:\n",
        "                  dataset[i,j] = 9\n",
        "\n",
        "              if dataset[i,j] == \"Low\":\n",
        "                if criterion[j] == 'max':\n",
        "                  dataset[i,j] = 3\n",
        "                else:\n",
        "                  dataset[i,j] = 7\n",
        "\n",
        "              if dataset[i,j] == \"Neutral\":\n",
        "                  dataset[i,j] = 5\n",
        "\n",
        "              if dataset[i,j] == \"Much\":\n",
        "                if criterion[j] == 'max':\n",
        "                  dataset[i,j] = 7\n",
        "                else:\n",
        "                  dataset[i,j] = 3\n",
        "\n",
        "              if dataset[i,j] == \"Very Much\":\n",
        "                if criterion[j] == 'max':\n",
        "                  dataset[i,j] = 9\n",
        "                else:\n",
        "                  dataset[i,j] = 1\n",
        "  return(np.array(dataset,dtype='f'))"
      ],
      "metadata": {
        "id": "juoC2smKNKIM"
      },
      "execution_count": null,
      "outputs": []
    },
    {
      "cell_type": "code",
      "source": [
        "# مقایس لیکرت ماتریس مقایسات زوجی\n",
        "def Likert_PCM(dataset):\n",
        "  if dataset.ndim>1:\n",
        "      for i in range(dataset.shape[0]):\n",
        "              for j in range(dataset.shape[1]):\n",
        "                  if dataset[i,j] == \"Equally Preferred\":\n",
        "                      dataset[i,j] = 1\n",
        "\n",
        "                  elif dataset[i,j] == \"Moderately Preferred\":\n",
        "                      dataset[i,j] = 3\n",
        "\n",
        "                  elif dataset[i,j] == \"Strongly Preferred\":\n",
        "                      dataset[i,j] = 5\n",
        "\n",
        "                  elif dataset[i,j] == \"Very Strongly Preferred\":\n",
        "                      dataset[i,j] = 7\n",
        "\n",
        "                  elif dataset[i,j] == \"Extremely Preferred\":\n",
        "                      dataset[i,j] = 9\n",
        "      for i in range(dataset.shape[0]):\n",
        "              for j in range(dataset.shape[1]):\n",
        "                  if float(dataset[i,j]) == 0:\n",
        "                      dataset[i,j] = 1/float(dataset[j,i])\n",
        "  else:\n",
        "      for i in range(dataset.shape[0]):\n",
        "                  if dataset[i] == \"Equally Preferred\":\n",
        "                      dataset[i] = 1\n",
        "\n",
        "                  elif dataset[i] == \"Moderately Preferred\":\n",
        "                      dataset[i] = 3\n",
        "\n",
        "                  elif dataset[i] == \"Strongly Preferred\":\n",
        "                      dataset[i] = 5\n",
        "\n",
        "                  elif dataset[i] == \"Very Strongly Preferred\":\n",
        "                      dataset[i] = 7\n",
        "\n",
        "                  elif dataset[i] == \"Extremely Preferred\":\n",
        "                      dataset[i] = 9\n",
        "\n",
        "  return(np.array(dataset,dtype='f'))\n",
        "\n",
        "dataset = np.array([[1 , \"Extremely Preferred\" , \"Very Strongly Preferred\"],\n",
        "                    [0 ,            1          ,  \"Equally Preferred\"     ],\n",
        "                    [0 ,            0          ,           1              ]])\n",
        "Likert_PCM(dataset)"
      ],
      "metadata": {
        "id": "FN9b5AGWEL4P",
        "colab": {
          "base_uri": "https://localhost:8080/"
        },
        "outputId": "b033520f-253d-4613-fc5e-82bfbc28c049"
      },
      "execution_count": null,
      "outputs": [
        {
          "output_type": "execute_result",
          "data": {
            "text/plain": [
              "array([[1.        , 9.        , 7.        ],\n",
              "       [0.11111111, 1.        , 1.        ],\n",
              "       [0.14285715, 1.        , 1.        ]], dtype=float32)"
            ]
          },
          "metadata": {},
          "execution_count": 68
        }
      ]
    },
    {
      "cell_type": "code",
      "source": [
        "# بی مقیاس سازی خطی - نرمالیزه کردن خطی\n",
        "def NormMinMax(dataset,criterion):\n",
        "      dataset = Likert(dataset, criterion)\n",
        "\n",
        "      for j in range(dataset.shape[1]):\n",
        "          if criterion[j] == 'max':\n",
        "              dataset[:,j] = dataset[:,j] /np.max(dataset[:,j])\n",
        "\n",
        "          else:\n",
        "              dataset[:,j] = np.min(dataset[:,j])/dataset[:,j]\n",
        "\n",
        "      return(dataset)\n",
        "\n",
        "dataset = np.array(([[2   ,  1500 ,  20000 ,  5.5 ,  \"Neutral\"    , \"Very Much\" ],\n",
        "                     [2.5 ,  2700 ,  18000 ,  6.5 ,  \"Low\"        , \"Neutral\"   ],\n",
        "                     [1.8 ,  2000 ,  21000 ,  4.5 ,  \"Much\"       , \"Much\"      ],\n",
        "                     [2.2 ,  1800 ,  20000 ,  5   ,  \"Neutral\"    , \"Neutral\" ]]))\n",
        "criterion = ['max','max','max','min','max','max']\n",
        "NormMinMax(dataset, criterion)"
      ],
      "metadata": {
        "colab": {
          "base_uri": "https://localhost:8080/"
        },
        "id": "3J0bDee6OfSc",
        "outputId": "82dae199-9b33-4819-ee04-71b62d45cf89"
      },
      "execution_count": null,
      "outputs": [
        {
          "output_type": "execute_result",
          "data": {
            "text/plain": [
              "array([[0.8       , 0.5555556 , 0.95238096, 0.8181818 , 0.71428573,\n",
              "        1.        ],\n",
              "       [1.        , 1.        , 0.85714287, 0.6923077 , 0.42857143,\n",
              "        0.5555556 ],\n",
              "       [0.71999997, 0.7407407 , 1.        , 1.        , 1.        ,\n",
              "        0.7777778 ],\n",
              "       [0.88      , 0.6666667 , 0.95238096, 0.9       , 0.71428573,\n",
              "        0.5555556 ]], dtype=float32)"
            ]
          },
          "metadata": {},
          "execution_count": 5
        }
      ]
    },
    {
      "cell_type": "code",
      "source": [
        "# نرمالیزه کردن ساده\n",
        "def Normalization(dataset,criterion):\n",
        "      dataset = Likert(dataset, criterion)\n",
        "      dataset = np.array(dataset, dtype='f')\n",
        "      dataset = dataset/np.sum(dataset,axis=0)\n",
        "\n",
        "      return(dataset)\n",
        "\n",
        "dataset = np.array(([[2   ,  1500 ,  20000 ,  5.5 ,  \"Neutral\"    , \"Very Much\" ],\n",
        "                     [2.5 ,  2700 ,  18000 ,  6.5 ,  \"Low\"        , \"Neutral\"   ],\n",
        "                     [1.8 ,  2000 ,  21000 ,  4.5 ,  \"Much\"       , \"Much\"      ],\n",
        "                     [2.2 ,  1800 ,  20000 ,  5   ,  \"Neutral\"    , \"Neutral\" ]]))\n",
        "criterion = ['max','max','max','min','max','max']\n",
        "Normalization(dataset, criterion)"
      ],
      "metadata": {
        "colab": {
          "base_uri": "https://localhost:8080/"
        },
        "id": "7QWiwP5VPdIN",
        "outputId": "e35cc687-d264-4cbe-a7c6-5b777a72bf33"
      },
      "execution_count": null,
      "outputs": [
        {
          "output_type": "execute_result",
          "data": {
            "text/plain": [
              "array([[0.23529412, 0.1875    , 0.25316456, 0.25581396, 0.25      ,\n",
              "        0.34615386],\n",
              "       [0.29411766, 0.3375    , 0.2278481 , 0.30232558, 0.15      ,\n",
              "        0.1923077 ],\n",
              "       [0.2117647 , 0.25      , 0.2658228 , 0.20930232, 0.35      ,\n",
              "        0.26923078],\n",
              "       [0.25882354, 0.225     , 0.25316456, 0.23255815, 0.25      ,\n",
              "        0.1923077 ]], dtype=float32)"
            ]
          },
          "metadata": {},
          "execution_count": 6
        }
      ]
    },
    {
      "cell_type": "code",
      "source": [
        "# روش برداری\n",
        "def Euclidean(dataset,criterion):\n",
        "      dataset = Likert(dataset, criterion)\n",
        "      dataset = np.array(dataset, dtype='f')\n",
        "      dataset = dataset/np.sqrt(np.sum(np.square(dataset),axis=0))\n",
        "\n",
        "      return(dataset)\n",
        "\n",
        "dataset = np.array(([[2   ,  1500 ,  20000 ,  5.5 ,  \"Neutral\"    , \"Very Much\" ],\n",
        "                     [2.5 ,  2700 ,  18000 ,  6.5 ,  \"Low\"        , \"Neutral\"   ],\n",
        "                     [1.8 ,  2000 ,  21000 ,  4.5 ,  \"Much\"       , \"Much\"      ],\n",
        "                     [2.2 ,  1800 ,  20000 ,  5   ,  \"Neutral\"    , \"Neutral\" ]]))\n",
        "criterion = ['max','max','max','min','max','max']\n",
        "Euclidean(dataset, criterion)"
      ],
      "metadata": {
        "colab": {
          "base_uri": "https://localhost:8080/"
        },
        "id": "3WsaOGD4Qs-z",
        "outputId": "dbbd713f-b8f0-4896-d75f-d9d13604a676"
      },
      "execution_count": null,
      "outputs": [
        {
          "output_type": "execute_result",
          "data": {
            "text/plain": [
              "array([[0.46714184, 0.36618057, 0.5055601 , 0.5068533 , 0.48112524,\n",
              "        0.6708204 ],\n",
              "       [0.5839273 , 0.659125  , 0.45500413, 0.5990084 , 0.28867516,\n",
              "        0.372678  ],\n",
              "       [0.42042765, 0.48824075, 0.53083813, 0.41469812, 0.67357534,\n",
              "        0.5217492 ],\n",
              "       [0.51385605, 0.43941668, 0.5055601 , 0.4607757 , 0.48112524,\n",
              "        0.372678  ]], dtype=float32)"
            ]
          },
          "metadata": {},
          "execution_count": 7
        }
      ]
    },
    {
      "cell_type": "code",
      "source": [
        "# روش نرمالیزه کردن فازی\n",
        "def FuzzyNorm(dataset,criterion):\n",
        "      dataset = Likert(dataset, criterion)\n",
        "      dataset = np.array(dataset, dtype='f')\n",
        "\n",
        "      for j in range(dataset.shape[1]):\n",
        "          if criterion[j] == 'max':\n",
        "              dataset[:,j] = (dataset[:,j] - np.min(dataset[:,j]))/(np.max(dataset[:,j]) - np.min(dataset[:,j]))\n",
        "\n",
        "          else:\n",
        "              dataset[:,j] = (np.max(dataset[:,j]) - dataset[:,j])/(np.max(dataset[:,j]) - np.min(dataset[:,j]))\n",
        "\n",
        "      return(dataset)\n",
        "\n",
        "dataset = np.array(([[2   ,  1500 ,  20000 ,  5.5 ,  \"Neutral\"    , \"Very Much\" ],\n",
        "                     [2.5 ,  2700 ,  18000 ,  6.5 ,  \"Low\"        , \"Neutral\"   ],\n",
        "                     [1.8 ,  2000 ,  21000 ,  4.5 ,  \"Much\"       , \"Much\"      ],\n",
        "                     [2.2 ,  1800 ,  20000 ,  5   ,  \"Neutral\"    , \"Neutral\" ]]))\n",
        "criterion = ['max','max','max','min','max','max']\n",
        "FuzzyNorm(dataset, criterion)"
      ],
      "metadata": {
        "colab": {
          "base_uri": "https://localhost:8080/"
        },
        "id": "3ZZvxJOxRKaZ",
        "outputId": "5aacb211-4d3c-484e-f083-5f658bb88f80"
      },
      "execution_count": null,
      "outputs": [
        {
          "output_type": "execute_result",
          "data": {
            "text/plain": [
              "array([[0.28571433, 0.        , 0.6666667 , 0.5       , 0.5       ,\n",
              "        1.        ],\n",
              "       [1.        , 1.        , 0.        , 0.        , 0.        ,\n",
              "        0.        ],\n",
              "       [0.        , 0.41666666, 1.        , 1.        , 1.        ,\n",
              "        0.5       ],\n",
              "       [0.57142866, 0.25      , 0.6666667 , 0.75      , 0.5       ,\n",
              "        0.        ]], dtype=float32)"
            ]
          },
          "metadata": {},
          "execution_count": 8
        }
      ]
    },
    {
      "cell_type": "markdown",
      "source": [
        "#**Non-Compensatory**"
      ],
      "metadata": {
        "id": "Kh-EdIauSYLj"
      }
    },
    {
      "cell_type": "code",
      "source": [
        "# روش تسلط\n",
        "\n",
        "import itertools\n",
        "import numpy as np\n",
        "\n",
        "def Dominance(dataset, criterion):\n",
        "      dataset = Likert(dataset, criterion)\n",
        "\n",
        "      for j in range (dataset.shape[1]):\n",
        "          if criterion[j] == 'min':\n",
        "            dataset[:,j] = -dataset[:,j]\n",
        "\n",
        "      for i in range (dataset.shape[0]):\n",
        "\n",
        "          Dominance = np.greater_equal(dataset[i,:],dataset)\n",
        "\n",
        "          for x in range(Dominance.shape[0]):\n",
        "              if x!=i:\n",
        "                if Dominance[x,:].all() == True:\n",
        "                  print(\"Option\", i+1 ,\"is dominant over \", x+1)\n",
        "                  dataset =np.delete(dataset,x,0)\n",
        "      np.set_printoptions(suppress = True)\n",
        "      return(dataset)\n",
        "\n",
        "\n",
        "dataset = np.array(([[2   ,  1500 ,  20000 ,  5.5 ,  \"Neutral\"    , \"Very Much\" ],\n",
        "                     [2.5 ,  2700 ,  18000 ,  6.5 ,  \"Low\"        , \"Neutral\"   ],\n",
        "                     [1.8 ,  2000 ,  21000 ,  4.5 ,  \"Much\"       , \"Much\"      ],\n",
        "                     [2.2 ,  1800 ,  20000 ,  5   ,  \"Neutral\"    , \"Very Much\"   ]]))\n",
        "criterion = ['max','max','max','min','max','max']\n",
        "Dominance(dataset, criterion)\n"
      ],
      "metadata": {
        "colab": {
          "base_uri": "https://localhost:8080/"
        },
        "id": "sNkzAnD62FVN",
        "outputId": "baaf552c-663b-4e06-fde0-b3f12d95cf10"
      },
      "execution_count": null,
      "outputs": [
        {
          "output_type": "stream",
          "name": "stdout",
          "text": [
            "Option 4 is dominant over  1\n"
          ]
        },
        {
          "output_type": "execute_result",
          "data": {
            "text/plain": [
              "array([[    2.5,  2700. , 18000. ,    -6.5,     3. ,     5. ],\n",
              "       [    1.8,  2000. , 21000. ,    -4.5,     7. ,     7. ],\n",
              "       [    2.2,  1800. , 20000. ,    -5. ,     5. ,     9. ]],\n",
              "      dtype=float32)"
            ]
          },
          "metadata": {},
          "execution_count": 90
        }
      ]
    },
    {
      "cell_type": "code",
      "source": [
        "# روش حداکثر حداقل‌ها\n",
        "def Maximin (dataset, criterion):\n",
        "    dataset = NormMinMax(dataset,criterion)\n",
        "    Rank = np.max(np.min(dataset, axis=1))\n",
        "\n",
        "    for i in range(dataset.shape[0]):\n",
        "      if np.min(dataset[i,:]) == Rank:\n",
        "          print(\"Option\" , i+1 ,\"is selected\")\n",
        "\n",
        "dataset = np.array(([[2   ,  1500 ,  20000 ,  5.5 ,  \"Neutral\"    , \"Very Much\" ],\n",
        "                     [2.5 ,  2700 ,  18000 ,  6.5 ,  \"Low\"        , \"Neutral\"   ],\n",
        "                     [1.8 ,  2000 ,  21000 ,  4.5 ,  \"Much\"       , \"Much\"      ],\n",
        "                     [2.2 ,  1800 ,  20000 ,  5   ,  \"Neutral\"    , \"Neutral\"   ]]))\n",
        "criterion = ['max','max','max','min','max','max']\n",
        "Maximin(dataset, criterion)"
      ],
      "metadata": {
        "colab": {
          "base_uri": "https://localhost:8080/"
        },
        "id": "EEYLEKo3AUeW",
        "outputId": "b93dca9f-94e7-485a-f05c-22a1da6cddce"
      },
      "execution_count": null,
      "outputs": [
        {
          "output_type": "stream",
          "name": "stdout",
          "text": [
            "Option 3 is selected\n"
          ]
        }
      ]
    },
    {
      "cell_type": "code",
      "source": [
        "# روش حداکثر حداکثرها\n",
        "def Maximax (dataset, criterion):\n",
        "\n",
        "    dataset = NormMinMax(dataset,criterion)\n",
        "    Rank = np.max(np.max(dataset, axis=1))\n",
        "\n",
        "    for i in range(dataset.shape[0]):\n",
        "      if np.max(dataset[i,:]) == Rank:\n",
        "          print(\"Option\" , i+1 ,\"is selected\")\n",
        "\n",
        "dataset = np.array(([[2   ,  1500 ,  20000 ,  5.5 ,  \"Neutral\"    , \"Very Much\" ],\n",
        "                     [2.5 ,  2700 ,  18000 ,  6.5 ,  \"Low\"        , \"Neutral\"   ],\n",
        "                     [1.8 ,  2000 ,  21000 ,  4.5 ,  \"Much\"       , \"Much\"      ],\n",
        "                     [2.2 ,  1800 ,  20000 ,  5   ,  \"Neutral\"    , \"Neutral\"   ]]))\n",
        "criterion = ['max','max','max','min','max','max']\n",
        "Maximax(dataset, criterion)"
      ],
      "metadata": {
        "colab": {
          "base_uri": "https://localhost:8080/"
        },
        "id": "QrtrS0Y-UdhP",
        "outputId": "13e6b3d3-d35f-4d41-c83e-f10b03e9d240"
      },
      "execution_count": null,
      "outputs": [
        {
          "output_type": "stream",
          "name": "stdout",
          "text": [
            "Option 1 is selected\n",
            "Option 2 is selected\n",
            "Option 3 is selected\n"
          ]
        }
      ]
    },
    {
      "cell_type": "code",
      "source": [
        "# روش هروکس\n",
        "def Hurwicz(dataset , alpha , criterion):\n",
        "    dataset = NormMinMax(dataset,criterion)\n",
        "    H = alpha*np.min(dataset, axis=1) + (1-alpha)*np.max(dataset, axis=1)\n",
        "    Rank = np.max(H)\n",
        "\n",
        "    for i in range(H.shape[0]):\n",
        "        if H[i] == Rank:\n",
        "          print(\"Option\",i+1,\"is selected\")\n",
        "\n",
        "dataset = np.array(([[2   ,  1500 ,  20000 ,  5.5 ,  \"Neutral\"    , \"Very Much\" ],\n",
        "                     [2.5 ,  2700 ,  18000 ,  6.5 ,  \"Low\"        , \"Neutral\"   ],\n",
        "                     [1.8 ,  2000 ,  21000 ,  4.5 ,  \"Much\"       , \"Much\"      ],\n",
        "                     [2.2 ,  1800 ,  20000 ,  5   ,  \"Neutral\"    , \"Neutral\"   ]]))\n",
        "criterion = ['max','max','max','min','max','max']\n",
        "Hurwicz(dataset , 0.05 , criterion)"
      ],
      "metadata": {
        "colab": {
          "base_uri": "https://localhost:8080/"
        },
        "id": "IChnrxpaVLVH",
        "outputId": "5b1bfd6d-8354-46b1-b928-e82a90074b77"
      },
      "execution_count": null,
      "outputs": [
        {
          "output_type": "stream",
          "name": "stdout",
          "text": [
            "Option 3 is selected\n"
          ]
        }
      ]
    },
    {
      "cell_type": "code",
      "source": [
        "# روش ارضای جامع\n",
        "def Conjunctive(dataset , criterion, Threshold):\n",
        "    dataset = Likert(dataset, criterion)\n",
        "\n",
        "    for j in range (dataset.shape[1]):\n",
        "          if criterion[j] == 'min':\n",
        "            dataset[:,j] = -dataset[:,j]\n",
        "            T[j] = - T[j]\n",
        "\n",
        "    for i in range(dataset.shape[0]):\n",
        "        if np.greater_equal(dataset[i,:], Threshold).all() == True:\n",
        "          print(\"Option\",i+1,\"is selected\")\n",
        "\n",
        "dataset = np.array(([[2   ,  1500 ,  20000 ,  5.5 ,  \"Neutral\"    , \"Very Much\" ],\n",
        "                     [2.5 ,  2700 ,  18000 ,  6.5 ,  \"Low\"        , \"Neutral\"   ],\n",
        "                     [1.8 ,  2000 ,  21000 ,  4.5 ,  \"Much\"       , \"Much\"      ],\n",
        "                     [2.2 ,  1800 ,  20000 ,  5   ,  \"Neutral\"    , \"Neutral\"   ]]))\n",
        "T = np.array(([1.8 , 1500 , 15000 , 6 , 5 , 6]),dtype='f')\n",
        "criterion = ['max','max','max','min','max','max']\n",
        "Conjunctive(dataset , criterion , T)"
      ],
      "metadata": {
        "colab": {
          "base_uri": "https://localhost:8080/"
        },
        "id": "dvuWsphQaJhV",
        "outputId": "ce3fdbf7-fdca-47b9-da59-3dc983a4dece"
      },
      "execution_count": null,
      "outputs": [
        {
          "output_type": "stream",
          "name": "stdout",
          "text": [
            "Option 1 is selected\n",
            "Option 3 is selected\n"
          ]
        }
      ]
    },
    {
      "cell_type": "code",
      "source": [
        "# روش ارضای تکی\n",
        "def Disjunctive(dataset , criterion, Threshold):\n",
        "    dataset = Likert(dataset, criterion)\n",
        "\n",
        "    for j in range (dataset.shape[1]):\n",
        "          if criterion[j] == 'min':\n",
        "            dataset[:,j] = -dataset[:,j]\n",
        "            T[j] = - T[j]\n",
        "\n",
        "    for i in range(dataset.shape[0]):\n",
        "        if np.greater_equal(dataset[i,:], Threshold).any() == True:\n",
        "          print(\"Option\",i+1,\"is selected\")\n",
        "\n",
        "dataset = np.array(([[2   ,  1500 ,  20000 ,  5.5 ,  \"Neutral\"    , \"Very Much\" ],\n",
        "                     [2.2 ,  2700 ,  18000 ,  6.5 ,  \"Low\"        , \"Neutral\"   ],\n",
        "                     [1.8 ,  2000 ,  21000 ,  4.5 ,  \"Much\"       , \"Much\"      ],\n",
        "                     [2.2 ,  1800 ,  20000 ,  5   ,  \"Neutral\"    , \"Neutral\"   ]]))\n",
        "T = np.array(([2.3 ,  2000 , 22000 , 4.5 , 6 , 8]),dtype='f')\n",
        "criterion = ['max','max','max','min','max','max']\n",
        "Disjunctive(dataset , criterion , T)"
      ],
      "metadata": {
        "colab": {
          "base_uri": "https://localhost:8080/"
        },
        "id": "DF_29CJpgYmF",
        "outputId": "5200a4bd-d928-490a-e785-b20a8b5d8ce6"
      },
      "execution_count": null,
      "outputs": [
        {
          "output_type": "stream",
          "name": "stdout",
          "text": [
            "Option 1 is selected\n",
            "Option 2 is selected\n",
            "Option 3 is selected\n"
          ]
        }
      ]
    },
    {
      "cell_type": "code",
      "source": [
        "# روش لغت نامه‌ای\n",
        "def Lexicographic(dataset , criterion, Prio):\n",
        "    dataset = Likert(dataset, criterion)\n",
        "    data2 = np.copy(dataset)\n",
        "    for j in range (dataset.shape[1]):\n",
        "          if criterion[j] == 'min':\n",
        "            dataset[:,j] = -dataset[:,j]\n",
        "\n",
        "    for j in range(Prio.shape[0]):\n",
        "        Best = np.max(dataset[:,Prio[j]-1])\n",
        "        dataset = np.delete(dataset, np.where((dataset[:,Prio[j]-1] !=Best))[0], axis=0)\n",
        "        if dataset.shape[0] == 1:\n",
        "            for j in range (dataset.shape[1]):\n",
        "                if criterion[j] == 'min':\n",
        "                  dataset[:,j] = -dataset[:,j]\n",
        "            print(\"Option\",np.where((data2==dataset).all(-1))[0][0]+1, \"is selected\")\n",
        "            return(dataset)\n",
        "\n",
        "\n",
        "\n",
        "\n",
        "dataset = np.array(([[2   ,  1500 ,  20000 ,  5.5 ,  \"Neutral\"    , \"Very Much\" ],\n",
        "                     [2.2 ,  2700 ,  18000 ,  6.5 ,  \"Low\"        , \"Neutral\"   ],\n",
        "                     [1.8 ,  2000 ,  21000 ,  4.5 ,  \"Much\"       , \"Much\"      ],\n",
        "                     [2.2 ,  1800 ,  20000 ,  5   ,  \"Neutral\"    , \"Very Much\"   ]]))\n",
        "Prio = np.array([1,3,2,4,5,6])\n",
        "criterion = ['max','max','max','min','max','max']\n",
        "Lexicographic(dataset , criterion , Prio)"
      ],
      "metadata": {
        "colab": {
          "base_uri": "https://localhost:8080/"
        },
        "id": "mPRWxwZiiWMR",
        "outputId": "f561b9c5-d06a-4fce-a9fb-6384d210f77e"
      },
      "execution_count": null,
      "outputs": [
        {
          "output_type": "stream",
          "name": "stdout",
          "text": [
            "Option 4 is selected\n"
          ]
        },
        {
          "output_type": "execute_result",
          "data": {
            "text/plain": [
              "array([[2.2e+00, 1.8e+03, 2.0e+04, 5.0e+00, 5.0e+00, 9.0e+00]],\n",
              "      dtype=float32)"
            ]
          },
          "metadata": {},
          "execution_count": 29
        }
      ]
    },
    {
      "cell_type": "code",
      "source": [
        "# روش نیمه لغت‌ نامه‌ای\n",
        "def SemiLexicographic(dataset , criterion, Prio, Tolerance):\n",
        "    dataset = Likert(dataset, criterion)\n",
        "    data2 = np.copy(dataset)\n",
        "    for j in range (dataset.shape[1]):\n",
        "          if criterion[j] == 'min':\n",
        "            dataset[:,j] = -dataset[:,j]\n",
        "\n",
        "    for j in range(Prio.shape[0]):\n",
        "        Best = np.max(dataset[:,Prio[j]-1])\n",
        "        dataset = np.delete(dataset, np.where((dataset[:,Prio[j]-1] <Best*(1-Tolerance)))[0], axis=0)\n",
        "\n",
        "        if dataset.shape[0] == 1:\n",
        "            for j in range (dataset.shape[1]):\n",
        "                if criterion[j] == 'min':\n",
        "                  dataset[:,j] = -dataset[:,j]\n",
        "            print(\"Option\",np.where((data2==dataset).all(-1))[0][0]+1, \"is selected\")\n",
        "            return(dataset)\n",
        "\n",
        "dataset = np.array(([[2   ,  1500 ,  20000 ,  5.5 ,  \"Neutral\"    , \"Very Much\" ],\n",
        "                     [2.2 ,  2700 ,  18000 ,  6.5 ,  \"Low\"        , \"Neutral\"   ],\n",
        "                     [1.8 ,  2000 ,  21000 ,  4.5 ,  \"Much\"       , \"Much\"      ],\n",
        "                     [2.2 ,  1800 ,  20000 ,  5   ,  \"Neutral\"    , \"Very Much\"   ]]))\n",
        "Prio = np.array([1,3,2,4,5,6])\n",
        "Tolerance = 0.1\n",
        "criterion = ['max','max','max','min','max','max']\n",
        "SemiLexicographic(dataset , criterion , Prio, Tolerance)"
      ],
      "metadata": {
        "colab": {
          "base_uri": "https://localhost:8080/"
        },
        "id": "-7cwRq3inGO2",
        "outputId": "7b893a85-7637-4403-8ca4-d6abc78d5611"
      },
      "execution_count": null,
      "outputs": [
        {
          "output_type": "stream",
          "name": "stdout",
          "text": [
            "Option 2 is selected\n"
          ]
        },
        {
          "output_type": "execute_result",
          "data": {
            "text/plain": [
              "array([[2.2e+00, 2.7e+03, 1.8e+04, 6.5e+00, 3.0e+00, 5.0e+00]],\n",
              "      dtype=float32)"
            ]
          },
          "metadata": {},
          "execution_count": 30
        }
      ]
    },
    {
      "cell_type": "code",
      "source": [
        "# روش جایگشت\n",
        "def Permutation(dataset , criterion, weight):\n",
        "      dataset = Likert(dataset, criterion)\n",
        "\n",
        "      for j in range (dataset.shape[1]):\n",
        "          if criterion[j] == 'min':\n",
        "            dataset[:,j] = -dataset[:,j]\n",
        "\n",
        "      # Computing pairwise weights\n",
        "      H = np.empty((dataset.shape[0] , dataset.shape[0]))\n",
        "      for i in range(dataset.shape[0]):\n",
        "        for j in range(dataset.shape[0]):\n",
        "          H[i,j] = np.sum(weight[np.where(np.greater_equal(dataset[i,:], dataset[j,:]))[0]])\n",
        "\n",
        "      #Permutations of Options\n",
        "      s = np.arange(weight.shape[0])\n",
        "      comb = itertools.permutations(s, weight.shape[0])\n",
        "      Per = np.array(list(comb))\n",
        "\n",
        "      #Accordant Set\n",
        "      #Dissenting Set\n",
        "\n",
        "      Acc= np.empty((Per.shape[0], 1))\n",
        "      Diss= np.empty((Per.shape[0], 1))\n",
        "\n",
        "      for k in range(Per.shape[0]):\n",
        "        s=0\n",
        "        x=0\n",
        "        for i in range(Per.shape[1]):\n",
        "          for j in range(i+1, Per.shape[1]):\n",
        "            a = Per[k,i]\n",
        "            b = Per[k,j]\n",
        "            s+= H[a,b]\n",
        "            x+= H[b,a]\n",
        "          Acc[k,:] = s\n",
        "          Diss[k,:] = x\n",
        "\n",
        "      Permutation = Acc - Diss\n",
        "      print(Per[np.argmax(Permutation)])\n",
        "\n",
        "\n",
        "dataset = np.array(([[2    ,  15  ,  20],\n",
        "                     [2.2  ,  27  ,  18],\n",
        "                     [1.8  ,  20  ,  20]]))\n",
        "criterion = np.array(['max', 'min' , 'max'])\n",
        "weight = np.array([0.2 , 0.5 , 0.3])\n",
        "\n",
        "Permutation(dataset , criterion, weight)"
      ],
      "metadata": {
        "colab": {
          "base_uri": "https://localhost:8080/"
        },
        "id": "-s3F46z7s_Th",
        "outputId": "1ff1f0e2-1bea-42be-f1dc-a117736a660c"
      },
      "execution_count": null,
      "outputs": [
        {
          "output_type": "stream",
          "name": "stdout",
          "text": [
            "[0 2 1]\n"
          ]
        }
      ]
    },
    {
      "cell_type": "markdown",
      "source": [
        "#**Compensatory**"
      ],
      "metadata": {
        "id": "KghrA1_TJaL6"
      }
    },
    {
      "cell_type": "markdown",
      "source": [
        "## Entropy"
      ],
      "metadata": {
        "id": "5qqdqLdWje1D"
      }
    },
    {
      "cell_type": "code",
      "execution_count": null,
      "metadata": {
        "id": "fp8YH2-N0eZ5",
        "colab": {
          "base_uri": "https://localhost:8080/"
        },
        "outputId": "5f5c4085-0aa9-4d29-e62e-b37b2ec4703b"
      },
      "outputs": [
        {
          "output_type": "stream",
          "name": "stdout",
          "text": [
            "Entropy: [0.9946889  0.9829482  0.99888754 0.99327105 0.97032267 0.97714126]\n",
            "Matrix d: [0.00531107 0.01705182 0.00111246 0.00672895 0.02967733 0.02285874]\n",
            "Weights: [0.06418961 0.20608823 0.0134452  0.08132605 0.3586802  0.2762707 ]\n"
          ]
        }
      ],
      "source": [
        "# آنتروپی\n",
        "\n",
        "def entropy_method(dataset, criterion):\n",
        "    # Decision Matrix\n",
        "    dataset = Normalization(dataset, criterion)\n",
        "    ln_dataset = np.log(dataset)\n",
        "\n",
        "    #Entropy\n",
        "    E = np.zeros((dataset.shape))\n",
        "    K = 1/np.log(dataset.shape[0])\n",
        "    E = -K*np.sum(dataset*ln_dataset, axis=0)\n",
        "\n",
        "    #d\n",
        "    d = 1 - E\n",
        "\n",
        "    #Weight\n",
        "    w = d / (np.sum(d))\n",
        "\n",
        "    print(\"Entropy:\", E)\n",
        "    print(\"Matrix d:\", d)\n",
        "    print(\"Weights:\", w)\n",
        "\n",
        "dataset = np.array(([[2   ,  1500 ,  20000 ,  5.5 ,  5 , 9 ],\n",
        "                     [2.5 ,  2700 ,  18000 ,  6.5 ,  3 , 5 ],\n",
        "                     [1.8 ,  2000 ,  21000 ,  4.5 ,  7 , 7 ],\n",
        "                     [2.2 ,  1800 ,  20000 ,  5   ,  5 , 5 ]]))\n",
        "criterion = ['max','max','max','min','max','max']\n",
        "entropy_method(dataset, criterion)"
      ]
    },
    {
      "cell_type": "markdown",
      "source": [
        "## SAW & WASPAS"
      ],
      "metadata": {
        "id": "KP0pInSQjiDa"
      }
    },
    {
      "cell_type": "code",
      "source": [
        "# مجموع وزنی ساده\n",
        "\n",
        "def SAW(dataset, weights, criterion):\n",
        "    dataset = NormMinMax(dataset, criterion)\n",
        "    weighted = np.sum(dataset*weights, axis = 1)\n",
        "    sorted = np.sort(weighted)\n",
        "    print(\"Weighted:\", weighted)\n",
        "    for i in range (sorted.shape[0]):\n",
        "      print(\"rank\", i+1 ,\"is option\",np.where(weighted==sorted[-(i+1)])[0][0]+1)\n",
        "\n",
        "dataset = np.array(([[2   ,  1500 ,  20000 ,  5.5 ,  5 , 9 ],\n",
        "                     [2.5 ,  2700 ,  18000 ,  6.5 ,  3 , 5 ],\n",
        "                     [1.8 ,  2000 ,  21000 ,  4.5 ,  7 , 7 ],\n",
        "                     [2.2 ,  1800 ,  20000 ,  5   ,  5 , 5 ]]))\n",
        "w = np.array([0.2,   0.1,   0.1,   0.1,  0.2,  0.3])\n",
        "criterion = ['max','max','max','min','max','max']\n",
        "SAW(dataset, w, criterion)"
      ],
      "metadata": {
        "colab": {
          "base_uri": "https://localhost:8080/"
        },
        "id": "N-veVh3f4fL0",
        "outputId": "5c7e9f5c-326e-42eb-e609-e177e53e74b9"
      },
      "execution_count": null,
      "outputs": [
        {
          "output_type": "stream",
          "name": "stdout",
          "text": [
            "Weighted: [0.83546898 0.70732602 0.8514074  0.73742858]\n",
            "rank 1 is option 3\n",
            "rank 2 is option 1\n",
            "rank 3 is option 4\n",
            "rank 4 is option 2\n"
          ]
        }
      ]
    },
    {
      "cell_type": "code",
      "source": [
        "# روش وزنی ترکیبی\n",
        "\n",
        "def WASPAS(dataset, weights, Lambda, criterion):\n",
        "    dataset = NormMinMax(dataset, criterion)\n",
        "    weighted_sum = np.sum(dataset*weights, axis = 1)\n",
        "    weighted_product = np.prod(dataset**weights, axis = 1)\n",
        "    was = Lambda*weighted_sum + (1-Lambda)*weighted_product\n",
        "    sorted = np.sort(was)\n",
        "    print(\"Weighted:\", was)\n",
        "    for i in range (sorted.shape[0]):\n",
        "      print(\"rank\", i+1 ,\"is option\",np.where(was==sorted[-(i+1)])[0][0]+1)\n",
        "\n",
        "dataset = np.array(([[2   ,  1500 ,  20000 ,  5.5 ,  5 , 9 ],\n",
        "                     [2.5 ,  2700 ,  18000 ,  6.5 ,  3 , 5 ],\n",
        "                     [1.8 ,  2000 ,  21000 ,  4.5 ,  9 , 3 ],\n",
        "                     [2.2 ,  1800 ,  20000 ,  5   ,  5 , 5 ]]))\n",
        "w = np.array([0.2,   0.1,   0.1,   0.1,  0.2,  0.3])\n",
        "criterion = ['max','max','max','min','max','max']\n",
        "WASPAS(dataset, w, 0.8 ,criterion)"
      ],
      "metadata": {
        "colab": {
          "base_uri": "https://localhost:8080/"
        },
        "id": "9CA_VTyN7Jb9",
        "outputId": "f8f620ac-f5b2-4412-adb7-c58c6b71c0c9"
      },
      "execution_count": null,
      "outputs": [
        {
          "output_type": "stream",
          "name": "stdout",
          "text": [
            "Weighted: [0.79937676 0.67837223 0.70517465 0.70194596]\n",
            "rank 1 is option 1\n",
            "rank 2 is option 3\n",
            "rank 3 is option 4\n",
            "rank 4 is option 2\n"
          ]
        }
      ]
    },
    {
      "cell_type": "markdown",
      "source": [
        "## PCM"
      ],
      "metadata": {
        "id": "gTyj0397jlfB"
      }
    },
    {
      "cell_type": "code",
      "source": [
        "# ماتریس مقایسات زوجی\n",
        "\n",
        "def PCM(dataset, IIR, In_method, Weight_method):\n",
        "      dataset = Likert_PCM(dataset)\n",
        "      eigenvalues, eigenvectors = LA.eig(dataset)\n",
        "      Lambda = np.max(abs(eigenvalues.real))\n",
        "      II = (Lambda-dataset.shape[0])/(dataset.shape[0]-1)\n",
        "      IR = II/(IIR[dataset.shape[0]-1])\n",
        "\n",
        "      if IR>0.1:\n",
        "          print(\"Inconsistent PCM\")\n",
        "          # روش لگاریتم کمترین مربعات\n",
        "          if In_method == \"LLSM\":\n",
        "              W = np.prod(dataset, axis=1)**(1/dataset.shape[0])/np.sum(np.prod(dataset, axis=1)**(1/dataset.shape[0]))\n",
        "              print(\"Weights with LLSM method:\", W)\n",
        "\n",
        "\n",
        "          # روش مقدار ویژه\n",
        "          if In_method == \"EVM\":\n",
        "              b = np.zeros(dataset.shape[0])\n",
        "              def f(w):\n",
        "                  y = np.dot((dataset - Lambda*np.identity(dataset.shape[0])),w) - b\n",
        "                  return np.dot(y,y)\n",
        "\n",
        "              cons = ({'type': 'eq', 'fun': lambda w: w.sum() - 1})\n",
        "              res = optimize.minimize(f, np.zeros(dataset.shape[0]), method='SLSQP', constraints=cons,\n",
        "                                      options={'disp': False})\n",
        "              W = res['x']\n",
        "              print(\"Weights with EVM method:\", W)\n",
        "\n",
        "\n",
        "          # روش کمترین مربعات\n",
        "          if In_method == \"LSM\":\n",
        "              def f(w):\n",
        "                  y =0\n",
        "                  for i in range (dataset.shape[0]):\n",
        "                      for j in range(dataset.shape[1]):\n",
        "                          y += (dataset[i,j]*w[j]-w[i])**2\n",
        "                  return y\n",
        "\n",
        "              cons = ({'type': 'eq', 'fun': lambda w: w.sum() - 1})\n",
        "              res = optimize.minimize(f, np.zeros(dataset.shape[0]), method='SLSQP', constraints=cons,\n",
        "                                      options={'disp': False})\n",
        "              W = res['x']\n",
        "              print(\"Weights with LSM method:\", W)\n",
        "\n",
        "\n",
        "      else:\n",
        "          # جمع سطری\n",
        "          if Weight_method == \"Row\":\n",
        "              dataset = np.sum(dataset, axis = 1)\n",
        "              dataset = dataset/np.sum(dataset)\n",
        "              print(\"Weights with summation of rows method:\", dataset)\n",
        "              return\n",
        "          # جمع ستونی\n",
        "          elif Weight_method == \"Column\":\n",
        "              dataset = np.sum(dataset, axis = 0)\n",
        "              dataset = 1/dataset\n",
        "              dataset = dataset/np.sum(dataset)\n",
        "              print(\"Weights summation of columns method:\", dataset)\n",
        "              return\n",
        "\n",
        "          # میانگین حسابی\n",
        "          elif Weight_method == \"Arithmetic Mean\":\n",
        "              dataset = dataset/np.sum(dataset, axis =0)\n",
        "              dataset = np.mean(dataset, axis=1)\n",
        "              print(\"Weights with Arithmetic mean method:\", dataset)\n",
        "              return\n",
        "\n",
        "          # میانگین هندسی\n",
        "          elif Weight_method == \"Geometric Mean\":\n",
        "              dataset = gmean(dataset, axis = 1)\n",
        "              dataset = dataset/np.sum(dataset)\n",
        "              print(\"Weights with Geometric mean method:\", dataset)\n",
        "              return\n",
        "\n",
        "dataset = np.array(([[ 1   ,  5   ,  6   ,  7],\n",
        "                     [1/5  ,  1   ,  4   ,  6],\n",
        "                     [1/6  ,  1/4 ,  1   ,  4],\n",
        "                     [1/7  ,  1/6 ,  1/4 ,  1]]))\n",
        "IIR = np.array([0 , 0 , 0.58 ,  0.9, 1.12, 1.24, 1.32, 1.41, 1.45, 1.51])\n",
        "Weight_method = \"Row\"\n",
        "In_method = \"EVM\"\n",
        "PCM(dataset, IIR, In_method, Weight_method)\n"
      ],
      "metadata": {
        "colab": {
          "base_uri": "https://localhost:8080/"
        },
        "id": "GUoaiJA6ilJy",
        "outputId": "7d2306da-ceb9-4f7b-e5cc-2233d81bd28d"
      },
      "execution_count": null,
      "outputs": [
        {
          "output_type": "stream",
          "name": "stdout",
          "text": [
            "Inconsistent PCM\n",
            "Weights with EVM method: [0.61867427 0.23531693 0.10093078 0.04507801]\n"
          ]
        }
      ]
    },
    {
      "cell_type": "markdown",
      "source": [
        "## BWM"
      ],
      "metadata": {
        "id": "4NeU5PCejoCM"
      }
    },
    {
      "cell_type": "code",
      "source": [
        "# روش بهترین-بدترین\n",
        "\n",
        "def BWM(Best_to_Others, Others_to_Worst, BWM_method = \"Linear\"):\n",
        "    bo = Likert_PCM(Best_to_Others)\n",
        "    wo = Likert_PCM(Others_to_Worst)\n",
        "\n",
        "    if BWM_method == \"Linear\":\n",
        "          #تعریف محدودیت ها و تابع هدف کسری\n",
        "          def target_functionLR(variables):\n",
        "              Wbest      = variables[np.argmin(bo)]\n",
        "              Wworst      = variables[np.argmin(wo)]\n",
        "              cons_1  = []\n",
        "              cons_2  = []\n",
        "\n",
        "              for i in range(0, bo.shape[0]):\n",
        "                  cons_1.append(abs(Wbest - bo[i]*variables[i]))\n",
        "              cons_1.extend([-item for item in cons_1])\n",
        "\n",
        "              for i in range(0, wo.shape[0]):\n",
        "                  cons_2.append(abs(variables[i] - wo[i] * Wworst))\n",
        "              cons_2.extend([-item for item in cons_2])\n",
        "\n",
        "              cons = cons_1 + cons_2\n",
        "              eps = np.max(cons)\n",
        "\n",
        "              return eps\n",
        "\n",
        "          # مقادیر اولیه متغیرها، حدود متغیرها و بهینه سازی\n",
        "          np.random.seed(42)\n",
        "          variables = np.random.uniform(low = 0.001, high = 1.0, size = bo.shape[0])\n",
        "          variables = variables / np.sum(variables)\n",
        "          bounds    = Bounds([0]*bo.shape[0], [1]*bo.shape[0])\n",
        "          w_cons    = LinearConstraint(np.ones(bo.shape[0]), [1], [1])\n",
        "          results   = minimize(target_functionLR, variables, method = 'trust-constr', bounds = bounds, constraints = [w_cons])\n",
        "          weights   = results.x\n",
        "          obj = target_functionLR(results.x)\n",
        "\n",
        "          print(\"Epsilon is:\", obj)\n",
        "          for i in range (weights.shape[0]):\n",
        "              print(\"Criteria\",i+1,\"'s weight is:\", weights[i])\n",
        "\n",
        "    if BWM_method == \"Fractional\":\n",
        "          #تعریف محدودیت ها و تابع هدف کسری\n",
        "          def target_functionFR(variables):\n",
        "              Wbest      = variables[np.argmin(bo)]\n",
        "              Wworst      = variables[np.argmin(wo)]\n",
        "              cons_1  = []\n",
        "              cons_2  = []\n",
        "              penalty = 0\n",
        "              for i in range(0, bo.shape[0]):\n",
        "                  cons_1.append(abs(Wbest/variables[i] - bo[i]))\n",
        "              cons_1.extend([-item for item in cons_1])\n",
        "              for i in range(0, wo.shape[0]):\n",
        "                  cons_2.append(abs(variables[i]/Wworst - wo[i]))\n",
        "              cons_2.extend([-item for item in cons_2])\n",
        "              cons = cons_1 + cons_2\n",
        "              eps = np.max(cons)\n",
        "              return eps\n",
        "\n",
        "          # مقادیر اولیه متغیرها، حدود متغیرها و بهینه سازی\n",
        "          np.random.seed(42)\n",
        "          variables = np.random.uniform(low = 0.001, high = 1.0, size = bo.shape[0])\n",
        "          variables = variables / np.sum(variables)\n",
        "          bounds    = Bounds([0]*bo.shape[0], [1]*bo.shape[0])\n",
        "          w_cons    = LinearConstraint(np.ones(bo.shape[0]), [1], [1])\n",
        "          results   = minimize(target_functionFR, variables, method = 'trust-constr', bounds = bounds, constraints = [w_cons])\n",
        "          weights   = results.x\n",
        "          obj = target_functionFR(results.x)\n",
        "\n",
        "          print(\"Epsilon is:\", obj)\n",
        "          for i in range (weights.shape[0]):\n",
        "              print(\"Criteria\",i+1,\"'s weight is:\", weights[i])\n",
        "\n",
        "    #Input-based consistency ratio\n",
        "    print(\"\\nInput-based consistency ratio\")\n",
        "    CR = np.zeros(bo.shape[0])\n",
        "    BW = np.max(bo)\n",
        "    for j in range(bo.shape[0]):\n",
        "        if BW ==1:\n",
        "            CR[j] = 0\n",
        "        else:\n",
        "            CR[j] = np.abs(bo[j]*wo[j] - BW)/(BW**2 - BW)\n",
        "\n",
        "    CR = np.max(CR)\n",
        "    threshold = [0, 0, 0, 0.1667, 0.1898, 0.2306, 0.2643, 0.2819, 0.2958, 0.3062]\n",
        "\n",
        "    if (CR <= threshold[int(BW)]):\n",
        "        print(\"Consistency retio is:\", CR, \"which is acceptable\")\n",
        "    else:\n",
        "       print(\"Consistency retio is:\", CR, \"which is inconsistent\")\n",
        "\n",
        "    #Output-based consistency ratio\n",
        "    print(\"\\nOutput-based consistency ratio\")\n",
        "    threshold = [0, 0.44, 1, 1.63, 2.3, 3, 3.73, 4.47, 5.23]\n",
        "    CI = obj/threshold[int(BW)-1]\n",
        "    if  CI<0.1:\n",
        "        print(\"Consistency retio is:\", CI, \"which is acceptable\")\n",
        "    else:\n",
        "        print(\"Consistency retio is:\", CI, \"which is inconsistent\")\n",
        "\n",
        "Best_to_Others =np.array([8,2,1])\n",
        "Others_to_Worst =  np.array([1,5,8])\n",
        "BWM(Best_to_Others , Others_to_Worst , \"Fractional\")"
      ],
      "metadata": {
        "colab": {
          "base_uri": "https://localhost:8080/"
        },
        "id": "FxVeYarIfVpR",
        "outputId": "476811ac-7d36-4951-fd54-b068c9a11c15"
      },
      "execution_count": null,
      "outputs": [
        {
          "output_type": "stream",
          "name": "stdout",
          "text": [
            "Epsilon is: 0.2583427434414858\n",
            "Criteria 1 's weight is: 0.07142856947753136\n",
            "Criteria 2 's weight is: 0.33868983013874787\n",
            "Criteria 3 's weight is: 0.5898816003837208\n",
            "\n",
            "Input-based consistency ratio\n",
            "Consistency retio is: 0.03571428571428571 which is acceptable\n",
            "\n",
            "Output-based consistency ratio\n",
            "Consistency retio is: 0.057794797190488995 which is acceptable\n"
          ]
        }
      ]
    },
    {
      "cell_type": "markdown",
      "source": [
        "## AHP"
      ],
      "metadata": {
        "id": "XaOQgQccjtCy"
      }
    },
    {
      "cell_type": "code",
      "source": [
        "!pip install ahpy\n",
        "import numpy as np\n",
        "import itertools\n",
        "import ahpy"
      ],
      "metadata": {
        "id": "7AnOF9gfSu0g"
      },
      "execution_count": null,
      "outputs": []
    },
    {
      "cell_type": "markdown",
      "source": [
        "### Example 1"
      ],
      "metadata": {
        "id": "WBjzbBHPkCIz"
      }
    },
    {
      "cell_type": "code",
      "source": [
        "import ahpy\n",
        "K1_comparisons = {('D1', 'D2'): 1/3, ('D1', 'D3'): 3, ('D2', 'D3'): 5}\n",
        "K2_comparisons = {('D1', 'D2'): 1, ('D1', 'D3'): 8, ('D2', 'D3'): 8}\n",
        "K3_comparisons = {('D1', 'D2'): 5, ('D1', 'D3'): 8, ('D2', 'D3'): 5}\n",
        "K4_comparisons = {('D1', 'D2'): 1, ('D1', 'D3'): 5, ('D2', 'D3'): 5}\n",
        "K5_comparisons = {('D1', 'D2'): 5, ('D1', 'D3'): 9, ('D2', 'D3'): 4}\n",
        "K6_comparisons = {('D1', 'D2'): 5, ('D1', 'D3'): 8, ('D2', 'D3'): 6}\n",
        "K7_comparisons = {('D1', 'D2'): 7, ('D1', 'D3'): 5, ('D2', 'D3'): 1/6}\n",
        "K8_comparisons = {('D1', 'D2'): 4, ('D1', 'D3'): 8, ('D2', 'D3'): 7}\n",
        "K9_comparisons = {('D1', 'D2'): 6, ('D1', 'D3'): 7, ('D2', 'D3'): 5}\n",
        "K10_comparisons = {('D1', 'D2'):1/3, ('D1', 'D3'): 7, ('D2', 'D3'): 8}\n",
        "\n",
        "criteria_comparisons = {('K1', 'K2'): 3, ('K1', 'K3'): 5, ('K1', 'K4'): 5, ('K1', 'K5'): 7, ('K1', 'K6'): 8, ('K1', 'K7'): 8, ('K1', 'K8'): 6, ('K1', 'K9'): 5, ('K1', 'K10'): 5,\n",
        "                        ('K2', 'K3'): 5, ('K2', 'K4'): 5, ('K2', 'K5'): 7, ('K2', 'K6'): 8, ('K2', 'K7'): 8, ('K2', 'K8'): 6, ('K2', 'K9'): 5, ('K2', 'K10'): 5,\n",
        "\t\t\t\t\t\t\t\t\t\t\t\t('K3', 'K4'): 1/3, ('K3', 'K5'): 5, ('K3', 'K6'): 6, ('K3', 'K7'): 7, ('K3', 'K8'): 5, ('K3', 'K9'): 3, ('K3', 'K10'): 4,\n",
        "\t\t\t\t\t\t\t\t\t\t\t\t('K4', 'K5'): 4, ('K4', 'K6'): 3, ('K4', 'K7'): 7, ('K4', 'K8'): 5, ('K4', 'K9'): 1, ('K4', 'K10'): 5,\n",
        "\t\t\t\t\t\t\t\t\t\t\t\t('K5', 'K6'): 4, ('K5', 'K7'): 1/5, ('K5', 'K8'): 1/7, ('K5', 'K9'): 1/3, ('K5', 'K10'): 3,\n",
        "\t\t\t\t\t\t\t\t\t\t\t\t('K6', 'K7'): 5, ('K6', 'K8'): 1/5, ('K6', 'K9'): 1/3, ('K6', 'K10'): 3,\n",
        "\t\t\t\t\t\t\t\t\t\t\t\t('K7', 'K8'): 1/3, ('K7', 'K9'): 1/3, ('K7', 'K10'): 3,\n",
        "\t\t\t\t\t\t\t\t\t\t\t\t('K8', 'K9'): 1, ('K8', 'K10'): 3,\n",
        "\t\t\t\t\t\t\t\t\t\t\t\t('K9', 'K10'): 3}\n",
        "\n",
        "K1 = ahpy.Compare('K1', K1_comparisons, precision=4, random_index='saaty')\n",
        "K2 = ahpy.Compare('K2', K2_comparisons, precision=4, random_index='saaty')\n",
        "K3 = ahpy.Compare('K3', K3_comparisons, precision=4, random_index='saaty')\n",
        "K4 = ahpy.Compare('K4', K4_comparisons, precision=4, random_index='saaty')\n",
        "K5 = ahpy.Compare('K5', K5_comparisons, precision=4, random_index='saaty')\n",
        "K6 = ahpy.Compare('K6', K6_comparisons, precision=4, random_index='saaty')\n",
        "K7 = ahpy.Compare('K7', K7_comparisons, precision=4, random_index='saaty')\n",
        "K8 = ahpy.Compare('K8', K8_comparisons, precision=4, random_index='saaty')\n",
        "K9 = ahpy.Compare('K9', K9_comparisons, precision=4, random_index='saaty')\n",
        "K10 = ahpy.Compare('K10', K10_comparisons, precision=4, random_index='saaty')\n",
        "criteria = ahpy.Compare('Criteria', criteria_comparisons, precision=4, random_index='saaty')"
      ],
      "metadata": {
        "id": "j5Hzg91sjzk_"
      },
      "execution_count": null,
      "outputs": []
    },
    {
      "cell_type": "code",
      "source": [
        "criteria.add_children([K1, K2, K3, K4, K5, K6, K7, K8, K9, K10])\n",
        "print(\"وزن نهایی گزینه ها: \", criteria.target_weights)\n",
        "print(\"وزن هر گزینه در معیار اول: \",K1.local_weights)\n",
        "print(\"وزن هر گزینه در معیار دوم: \",K2.local_weights)\n",
        "print(\"وزن هر گزینه در معیار سوم: \",K3.local_weights)\n",
        "print(\"وزن هر گزینه در معیار چهارم: \",K4.local_weights)\n",
        "print(\"وزن هر گزینه در معیار پنجم: \",K5.local_weights)\n",
        "print(\"وزن هر گزینه در معیار ششم: \",K6.local_weights)\n",
        "print(\"وزن هر گزینه در معیار هفتم: \",K7.local_weights)\n",
        "print(\"وزن هر گزینه در معیار هشتم: \",K8.local_weights)\n",
        "print(\"وزن هر گزینه در معیار نهم: \",K9.local_weights)\n",
        "print(\"وزن هر گزینه در معیار دهم: \",K10.local_weights)"
      ],
      "metadata": {
        "id": "L07k0SyLj1Gs"
      },
      "execution_count": null,
      "outputs": []
    },
    {
      "cell_type": "code",
      "source": [
        "print(\"گزارش نهایی و کلی\")\n",
        "report = criteria.report(show=True)"
      ],
      "metadata": {
        "id": "LgdaBAYBj5Pj"
      },
      "execution_count": null,
      "outputs": []
    },
    {
      "cell_type": "markdown",
      "source": [
        "### Example 2"
      ],
      "metadata": {
        "id": "vX2hSjkTkEbM"
      }
    },
    {
      "cell_type": "code",
      "source": [
        "cars = ('civic', 'saturn', 'escort', 'clio')\n",
        "\n",
        "gas_m = dict(zip(cars, (34, 27, 24, 28)))\n",
        "gas = ahpy.Compare('gas', gas_m, precision=3)\n",
        "\n",
        "rel_m = dict(zip(itertools.combinations(cars, 2), (2, 5, 1, 3, 2, 0.25)))\n",
        "rel = ahpy.Compare('rel', rel_m, 3)\n",
        "\n",
        "style_m = {('civic', 'escort'): 4,\n",
        "            ('saturn', 'civic'): 4, ('saturn', 'escort'): 4, ('saturn', 'clio'): 0.25,\n",
        "            ('clio', 'civic'): 6, ('clio', 'escort'): 5}\n",
        "style = ahpy.Compare('style', style_m, precision=3)\n",
        "\n",
        "cri_m = {('style', 'rel'): 0.5, ('style', 'gas'): 3,\n",
        "          ('rel', 'gas'): 4}\n",
        "goal = ahpy.Compare('goal', cri_m)\n",
        "\n",
        "goal.add_children([gas, rel, style])\n",
        "print(\"وزن نهایی گزینه ها: \", goal.target_weights)"
      ],
      "metadata": {
        "id": "-bHbkJqXkHLv"
      },
      "execution_count": null,
      "outputs": []
    },
    {
      "cell_type": "markdown",
      "source": [
        "### Example 3"
      ],
      "metadata": {
        "id": "GX94Pj32kKjK"
      }
    },
    {
      "cell_type": "code",
      "source": [
        "a_m = {('b', 'c'): 1}\n",
        "b_m = {('d', 'e'): 4}\n",
        "c_m = {('f', 'g'): 1, ('g', 'h'): 1/2}\n",
        "d_m = {('i', 'j'): 2}\n",
        "e_m = {'x': 1, 'y': 2, 'z': 3}\n",
        "f_m = {('k', 'l'): 1/9}\n",
        "g_m = {'x': 1, 'y': 3, 'z': 6}\n",
        "h_m = {'x': 2, 'y': 4, 'z': 4}\n",
        "i_m = {'x': 2, 'y': 4, 'z': 4}\n",
        "j_m = {'x': 1, 'y': 2, 'z': 3}\n",
        "k_m = {'x': 2, 'y': 4, 'z': 4}\n",
        "l_m = {('m', 'n'): 1}\n",
        "m_m = {'x': 1, 'y': 2, 'z': 3}\n",
        "n_m = {'x': 1, 'y': 3, 'z': 6}\n",
        "\n",
        "a = ahpy.Compare('a', a_m, precision=4)\n",
        "b = ahpy.Compare('b', b_m, precision=4)\n",
        "c = ahpy.Compare('c', c_m, precision=4)\n",
        "d = ahpy.Compare('d', d_m, precision=4)\n",
        "e = ahpy.Compare('e', e_m, precision=4)\n",
        "f = ahpy.Compare('f', f_m, precision=4)\n",
        "g = ahpy.Compare('g', g_m, precision=4)\n",
        "h = ahpy.Compare('h', h_m, precision=4)\n",
        "i = ahpy.Compare('i', i_m, precision=4)\n",
        "j = ahpy.Compare('j', j_m, precision=4)\n",
        "k = ahpy.Compare('k', k_m, precision=4)\n",
        "l = ahpy.Compare('l', l_m, precision=4)\n",
        "m = ahpy.Compare('m', m_m, precision=4)\n",
        "n = ahpy.Compare('n', n_m, precision=4)\n",
        "\n",
        "l.add_children([m, n])\n",
        "d.add_children([i, j])\n",
        "f.add_children([l, k])\n",
        "b.add_children([d, e])\n",
        "c.add_children([h, f, g])\n",
        "a.add_children([b, c])\n",
        "\n",
        "nodes = [(a, [b, c]), (b, [d, e]), (c, [f, g, h]), (d, [i, j]), (f, [k, l]), (l, [m, n])]\n",
        "permutations = itertools.permutations(nodes)\n",
        "for permutation in permutations:\n",
        "     for node in permutation:\n",
        "         node[0].add_children(node[1])\n",
        "\n",
        "h.report()"
      ],
      "metadata": {
        "id": "cXhCDYi5kJ9h"
      },
      "execution_count": null,
      "outputs": []
    },
    {
      "cell_type": "markdown",
      "source": [
        "# **BOLD TEXT**"
      ],
      "metadata": {
        "id": "ShcjkMhDkQ75"
      }
    }
  ]
}